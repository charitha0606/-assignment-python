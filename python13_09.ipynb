{
  "nbformat": 4,
  "nbformat_minor": 0,
  "metadata": {
    "colab": {
      "name": "python13_09.ipynb",
      "provenance": [],
      "authorship_tag": "ABX9TyMtBycRcfnCJuEdjeIAnM1H",
      "include_colab_link": true
    },
    "kernelspec": {
      "name": "python3",
      "display_name": "Python 3"
    },
    "language_info": {
      "name": "python"
    }
  },
  "cells": [
    {
      "cell_type": "markdown",
      "metadata": {
        "id": "view-in-github",
        "colab_type": "text"
      },
      "source": [
        "<a href=\"https://colab.research.google.com/github/charitha0606/-assignment-python/blob/master/python13_09.ipynb\" target=\"_parent\"><img src=\"https://colab.research.google.com/assets/colab-badge.svg\" alt=\"Open In Colab\"/></a>"
      ]
    },
    {
      "cell_type": "markdown",
      "metadata": {
        "id": "fEmfoUypfVNx"
      },
      "source": [
        "->functions in python"
      ]
    },
    {
      "cell_type": "code",
      "metadata": {
        "colab": {
          "base_uri": "https://localhost:8080/"
        },
        "id": "3ZxPA7Nvfc-J",
        "outputId": "8f790046-bc35-4c69-82d0-d845c7a236a2"
      },
      "source": [
        "def greet():\n",
        " a=('hi')\n",
        " b=('dear')\n",
        " print(a)\n",
        " print(b)\n",
        "\n",
        "\n",
        "greet()"
      ],
      "execution_count": 5,
      "outputs": [
        {
          "output_type": "stream",
          "name": "stdout",
          "text": [
            "hi\n",
            "dear\n"
          ]
        }
      ]
    },
    {
      "cell_type": "code",
      "metadata": {
        "colab": {
          "base_uri": "https://localhost:8080/"
        },
        "id": "nFl2Sxlhhu-g",
        "outputId": "5ff89a46-f68e-4e58-ae17-14c754184d71"
      },
      "source": [
        "def add():\n",
        "  a=4\n",
        "  b=5\n",
        "  c=a+b\n",
        "  print(c)\n",
        "add()  "
      ],
      "execution_count": 6,
      "outputs": [
        {
          "output_type": "stream",
          "name": "stdout",
          "text": [
            "9\n"
          ]
        }
      ]
    },
    {
      "cell_type": "markdown",
      "metadata": {
        "id": "WfOSOQUXh-k7"
      },
      "source": [
        "->function argument in python"
      ]
    },
    {
      "cell_type": "code",
      "metadata": {
        "colab": {
          "base_uri": "https://localhost:8080/"
        },
        "id": "XCE-nZDfiEDh",
        "outputId": "7c83395e-e502-4e31-ee73-3fcc21b1924c"
      },
      "source": [
        "def update(x):\n",
        "  x=4\n",
        "  print(x)\n",
        "update(9)  "
      ],
      "execution_count": 9,
      "outputs": [
        {
          "output_type": "stream",
          "name": "stdout",
          "text": [
            "4\n"
          ]
        }
      ]
    },
    {
      "cell_type": "code",
      "metadata": {
        "colab": {
          "base_uri": "https://localhost:8080/"
        },
        "id": "dn6_Zouri1_D",
        "outputId": "1fdaf9e0-527e-4117-d35f-3cf43af8185b"
      },
      "source": [
        "def update(x):\n",
        "  x=4\n",
        "  print(x)\n",
        "a=9\n",
        "update(a)\n",
        "print(a)"
      ],
      "execution_count": 13,
      "outputs": [
        {
          "output_type": "stream",
          "name": "stdout",
          "text": [
            "4\n",
            "9\n"
          ]
        }
      ]
    },
    {
      "cell_type": "code",
      "metadata": {
        "colab": {
          "base_uri": "https://localhost:8080/"
        },
        "id": "xdAwThS5kfXD",
        "outputId": "e482fb74-d03c-4cff-db4c-ce4ba2e8f6e5"
      },
      "source": [
        "def update(lst):\n",
        "  print(id(lst))\n",
        "  lst[1]=20\n",
        "  print(id(lst))\n",
        "  print('x',lst)\n",
        "lst=[1,2,3]\n",
        "print(id(lst))\n",
        "update(lst)\n",
        "print(\"lst\",lst)  "
      ],
      "execution_count": 15,
      "outputs": [
        {
          "output_type": "stream",
          "name": "stdout",
          "text": [
            "140441619573808\n",
            "140441619573808\n",
            "140441619573808\n",
            "x [1, 20, 3]\n",
            "lst [1, 20, 3]\n"
          ]
        }
      ]
    },
    {
      "cell_type": "markdown",
      "metadata": {
        "id": "ritAcIO4mvgo"
      },
      "source": [
        "->types of arguments in python"
      ]
    },
    {
      "cell_type": "code",
      "metadata": {
        "colab": {
          "base_uri": "https://localhost:8080/"
        },
        "id": "22VViS9Im2JT",
        "outputId": "64aea6a1-b365-425a-d618-93e8b2c021fa"
      },
      "source": [
        "def add(a,b):\n",
        "  c=a+b\n",
        "  print(c)\n",
        "add(5,6)  "
      ],
      "execution_count": 17,
      "outputs": [
        {
          "output_type": "stream",
          "name": "stdout",
          "text": [
            "11\n"
          ]
        }
      ]
    },
    {
      "cell_type": "code",
      "metadata": {
        "colab": {
          "base_uri": "https://localhost:8080/"
        },
        "id": "hDPleoudneSU",
        "outputId": "5183e3d2-4f30-4e7e-843b-062de6a418be"
      },
      "source": [
        "#position\n",
        "def person(name,age):\n",
        "  print(name)\n",
        "  print(age)\n",
        "person(\"charitha\",19)  "
      ],
      "execution_count": 18,
      "outputs": [
        {
          "output_type": "stream",
          "name": "stdout",
          "text": [
            "charitha\n",
            "19\n"
          ]
        }
      ]
    },
    {
      "cell_type": "code",
      "metadata": {
        "colab": {
          "base_uri": "https://localhost:8080/"
        },
        "id": "YjUzjfMOn8L4",
        "outputId": "a24e9515-9939-4b7f-e6f1-55652422433d"
      },
      "source": [
        "#position\n",
        "def person(name,age):\n",
        "  print(name)\n",
        "  print(age)\n",
        "person(19,\"charitha\")  "
      ],
      "execution_count": 19,
      "outputs": [
        {
          "output_type": "stream",
          "name": "stdout",
          "text": [
            "19\n",
            "charitha\n"
          ]
        }
      ]
    },
    {
      "cell_type": "code",
      "metadata": {
        "colab": {
          "base_uri": "https://localhost:8080/"
        },
        "id": "-QsNiN8tol23",
        "outputId": "4ec4b9ed-95be-4751-cc90-e24e471385d1"
      },
      "source": [
        "#keyword argument\n",
        "def person(name,age):\n",
        "  print(name)\n",
        "  print(age)\n",
        "person(age=19,name=\"charitha\")  "
      ],
      "execution_count": 20,
      "outputs": [
        {
          "output_type": "stream",
          "name": "stdout",
          "text": [
            "charitha\n",
            "19\n"
          ]
        }
      ]
    },
    {
      "cell_type": "code",
      "metadata": {
        "colab": {
          "base_uri": "https://localhost:8080/"
        },
        "id": "XEFhOPK3oyol",
        "outputId": "d49feb21-dcb0-45fc-e1e7-1ce9acec69fa"
      },
      "source": [
        "#default argument\n",
        "def person(name,age=19):\n",
        "  print(name)\n",
        "  print(age)\n",
        "person(\"charitha\",20)  "
      ],
      "execution_count": 22,
      "outputs": [
        {
          "output_type": "stream",
          "name": "stdout",
          "text": [
            "charitha\n",
            "20\n"
          ]
        }
      ]
    },
    {
      "cell_type": "code",
      "metadata": {
        "colab": {
          "base_uri": "https://localhost:8080/"
        },
        "id": "CPo-G9wGpF-S",
        "outputId": "621cf7dc-dd17-4979-b887-ffa68bbbfa28"
      },
      "source": [
        "#variable length\n",
        "def sum(a,   *b):\n",
        "  c=a\n",
        "  for i in b:\n",
        "    c=c+i\n",
        "  print(c)\n",
        "sum(5,10,20,40)    "
      ],
      "execution_count": 26,
      "outputs": [
        {
          "output_type": "stream",
          "name": "stdout",
          "text": [
            "75\n"
          ]
        }
      ]
    },
    {
      "cell_type": "markdown",
      "metadata": {
        "id": "LySixY9PpyQ9"
      },
      "source": [
        "->keyworded variable length argument in python"
      ]
    },
    {
      "cell_type": "code",
      "metadata": {
        "colab": {
          "base_uri": "https://localhost:8080/"
        },
        "id": "cqPvUk3Rp6xA",
        "outputId": "f43c78cf-bcf6-469b-8969-4accedddf5dd"
      },
      "source": [
        "def person(a, **b):\n",
        "  print(a)\n",
        "  print(b)\n",
        "person(\"charitha\",age=19,gender=\"female\",mobno=143)  "
      ],
      "execution_count": 27,
      "outputs": [
        {
          "output_type": "stream",
          "name": "stdout",
          "text": [
            "charitha\n",
            "{'age': 19, 'gender': 'female', 'mobno': 143}\n"
          ]
        }
      ]
    },
    {
      "cell_type": "code",
      "metadata": {
        "colab": {
          "base_uri": "https://localhost:8080/"
        },
        "id": "12DIHthAqvnv",
        "outputId": "e1b85aef-4d70-4472-ff40-89d4fa4a4cb7"
      },
      "source": [
        "def person(a,**b):\n",
        "  print(a)\n",
        "  print(b)\n",
        "  for i,j in b.items():\n",
        "   print(i,j)\n",
        "person(\"charitha\",age=19,edu=\"btech\",city=\"banglore\")   \n"
      ],
      "execution_count": 31,
      "outputs": [
        {
          "output_type": "stream",
          "name": "stdout",
          "text": [
            "charitha\n",
            "{'age': 19, 'edu': 'btech', 'city': 'banglore'}\n",
            "age 19\n",
            "edu btech\n",
            "city banglore\n"
          ]
        }
      ]
    }
  ]
}