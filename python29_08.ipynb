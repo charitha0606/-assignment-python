{
  "nbformat": 4,
  "nbformat_minor": 0,
  "metadata": {
    "colab": {
      "name": "python29_08.ipynb",
      "provenance": [],
      "authorship_tag": "ABX9TyOJDyvTioClNOswHe8DvxGL",
      "include_colab_link": true
    },
    "kernelspec": {
      "name": "python3",
      "display_name": "Python 3"
    },
    "language_info": {
      "name": "python"
    }
  },
  "cells": [
    {
      "cell_type": "markdown",
      "metadata": {
        "id": "view-in-github",
        "colab_type": "text"
      },
      "source": [
        "<a href=\"https://colab.research.google.com/github/charitha0606/-assignment-python/blob/master/python29_08.ipynb\" target=\"_parent\"><img src=\"https://colab.research.google.com/assets/colab-badge.svg\" alt=\"Open In Colab\"/></a>"
      ]
    },
    {
      "cell_type": "markdown",
      "metadata": {
        "id": "GtQBUENWwIo6"
      },
      "source": [
        "->Dictionary-unordered collection of data values,unique and mutable\n",
        "\n"
      ]
    },
    {
      "cell_type": "code",
      "metadata": {
        "colab": {
          "base_uri": "https://localhost:8080/"
        },
        "id": "cfNebf1lw8NH",
        "outputId": "4353506d-0b7a-489d-d4c9-5e08c8c83139"
      },
      "source": [
        "d={1:'cherry',2:'arshu'}\n",
        "d"
      ],
      "execution_count": 2,
      "outputs": [
        {
          "output_type": "execute_result",
          "data": {
            "text/plain": [
              "{1: 'cherry', 2: 'arshu'}"
            ]
          },
          "metadata": {},
          "execution_count": 2
        }
      ]
    },
    {
      "cell_type": "code",
      "metadata": {
        "colab": {
          "base_uri": "https://localhost:8080/",
          "height": 35
        },
        "id": "mVqPKxvKxVmW",
        "outputId": "c4eb7e7e-da1a-4290-d389-41648a8f6e16"
      },
      "source": [
        "d[1]"
      ],
      "execution_count": 4,
      "outputs": [
        {
          "output_type": "execute_result",
          "data": {
            "application/vnd.google.colaboratory.intrinsic+json": {
              "type": "string"
            },
            "text/plain": [
              "'cherry'"
            ]
          },
          "metadata": {},
          "execution_count": 4
        }
      ]
    },
    {
      "cell_type": "code",
      "metadata": {
        "colab": {
          "base_uri": "https://localhost:8080/",
          "height": 35
        },
        "id": "DYCV_MlKxcnS",
        "outputId": "1869b771-a316-4c10-ac0b-99920f93508f"
      },
      "source": [
        "d[2]"
      ],
      "execution_count": 5,
      "outputs": [
        {
          "output_type": "execute_result",
          "data": {
            "application/vnd.google.colaboratory.intrinsic+json": {
              "type": "string"
            },
            "text/plain": [
              "'arshu'"
            ]
          },
          "metadata": {},
          "execution_count": 5
        }
      ]
    },
    {
      "cell_type": "code",
      "metadata": {
        "colab": {
          "base_uri": "https://localhost:8080/",
          "height": 35
        },
        "id": "Gd5vLWW8xiXU",
        "outputId": "7914dd71-5567-4a25-c927-b31ac6e47667"
      },
      "source": [
        "d.get(1)"
      ],
      "execution_count": 6,
      "outputs": [
        {
          "output_type": "execute_result",
          "data": {
            "application/vnd.google.colaboratory.intrinsic+json": {
              "type": "string"
            },
            "text/plain": [
              "'cherry'"
            ]
          },
          "metadata": {},
          "execution_count": 6
        }
      ]
    },
    {
      "cell_type": "code",
      "metadata": {
        "id": "NQrqBJi5xl81"
      },
      "source": [
        "d.get(3)\n"
      ],
      "execution_count": 9,
      "outputs": []
    },
    {
      "cell_type": "code",
      "metadata": {
        "colab": {
          "base_uri": "https://localhost:8080/",
          "height": 35
        },
        "id": "sKBSEE1KxudY",
        "outputId": "df889f18-ca64-4d7e-b484-dfe218c5308a"
      },
      "source": [
        "d.get(1,'not found')"
      ],
      "execution_count": 10,
      "outputs": [
        {
          "output_type": "execute_result",
          "data": {
            "application/vnd.google.colaboratory.intrinsic+json": {
              "type": "string"
            },
            "text/plain": [
              "'cherry'"
            ]
          },
          "metadata": {},
          "execution_count": 10
        }
      ]
    },
    {
      "cell_type": "code",
      "metadata": {
        "colab": {
          "base_uri": "https://localhost:8080/",
          "height": 35
        },
        "id": "w4y10uJZx2B4",
        "outputId": "c4aa1f89-6ce7-480a-88cc-64d3f8658bc9"
      },
      "source": [
        "d.get(3,'not found')"
      ],
      "execution_count": 11,
      "outputs": [
        {
          "output_type": "execute_result",
          "data": {
            "application/vnd.google.colaboratory.intrinsic+json": {
              "type": "string"
            },
            "text/plain": [
              "'not found'"
            ]
          },
          "metadata": {},
          "execution_count": 11
        }
      ]
    },
    {
      "cell_type": "code",
      "metadata": {
        "id": "gRGu9ZLrx6vp"
      },
      "source": [
        "prog={'kc':'charitha','jk':'jyoshitha','python':['pycharm','subline'],'java':{'jse':'netbeans','jee':'eclipse'}}"
      ],
      "execution_count": 43,
      "outputs": []
    },
    {
      "cell_type": "code",
      "metadata": {
        "colab": {
          "base_uri": "https://localhost:8080/",
          "height": 35
        },
        "id": "4K4jZ3RIzbC5",
        "outputId": "a01cd0fd-d278-4ff5-9477-82aa67086cf5"
      },
      "source": [
        "prog['kc']"
      ],
      "execution_count": 44,
      "outputs": [
        {
          "output_type": "execute_result",
          "data": {
            "application/vnd.google.colaboratory.intrinsic+json": {
              "type": "string"
            },
            "text/plain": [
              "'charitha'"
            ]
          },
          "metadata": {},
          "execution_count": 44
        }
      ]
    },
    {
      "cell_type": "code",
      "metadata": {
        "colab": {
          "base_uri": "https://localhost:8080/"
        },
        "id": "zBSdpT_lzke9",
        "outputId": "8e249a73-eca5-4fb1-d942-1c23714383e5"
      },
      "source": [
        "prog['python']"
      ],
      "execution_count": 45,
      "outputs": [
        {
          "output_type": "execute_result",
          "data": {
            "text/plain": [
              "['pycharm', 'subline']"
            ]
          },
          "metadata": {},
          "execution_count": 45
        }
      ]
    },
    {
      "cell_type": "code",
      "metadata": {
        "colab": {
          "base_uri": "https://localhost:8080/",
          "height": 35
        },
        "id": "RILiKuiTzph3",
        "outputId": "b16421e3-60e4-48fb-80b2-a8bd77eccc5e"
      },
      "source": [
        "prog.get('jk')"
      ],
      "execution_count": 46,
      "outputs": [
        {
          "output_type": "execute_result",
          "data": {
            "application/vnd.google.colaboratory.intrinsic+json": {
              "type": "string"
            },
            "text/plain": [
              "'jyoshitha'"
            ]
          },
          "metadata": {},
          "execution_count": 46
        }
      ]
    },
    {
      "cell_type": "code",
      "metadata": {
        "colab": {
          "base_uri": "https://localhost:8080/"
        },
        "id": "26hUSpBWz8UJ",
        "outputId": "3eebc44e-c9da-48ec-f270-ccd5e42dae1d"
      },
      "source": [
        "prog.get('python')"
      ],
      "execution_count": 47,
      "outputs": [
        {
          "output_type": "execute_result",
          "data": {
            "text/plain": [
              "['pycharm', 'subline']"
            ]
          },
          "metadata": {},
          "execution_count": 47
        }
      ]
    },
    {
      "cell_type": "code",
      "metadata": {
        "colab": {
          "base_uri": "https://localhost:8080/",
          "height": 35
        },
        "id": "6teGp24A0EE1",
        "outputId": "9e22b77c-dafc-4dd1-8a23-685ab1ba0d89"
      },
      "source": [
        "prog['python'][1]"
      ],
      "execution_count": 48,
      "outputs": [
        {
          "output_type": "execute_result",
          "data": {
            "application/vnd.google.colaboratory.intrinsic+json": {
              "type": "string"
            },
            "text/plain": [
              "'subline'"
            ]
          },
          "metadata": {},
          "execution_count": 48
        }
      ]
    },
    {
      "cell_type": "code",
      "metadata": {
        "colab": {
          "base_uri": "https://localhost:8080/",
          "height": 35
        },
        "id": "dXdbRZY50ZyU",
        "outputId": "4d1a9506-97aa-4ef9-b865-454d4d4c8b63"
      },
      "source": [
        "prog['java']['jse']"
      ],
      "execution_count": 49,
      "outputs": [
        {
          "output_type": "execute_result",
          "data": {
            "application/vnd.google.colaboratory.intrinsic+json": {
              "type": "string"
            },
            "text/plain": [
              "'netbeans'"
            ]
          },
          "metadata": {},
          "execution_count": 49
        }
      ]
    },
    {
      "cell_type": "code",
      "metadata": {
        "colab": {
          "base_uri": "https://localhost:8080/"
        },
        "id": "KGMNlrNc09o3",
        "outputId": "9afc5d14-5613-4fc5-f6a3-6ef156c0087d"
      },
      "source": [
        "prog['java']"
      ],
      "execution_count": 50,
      "outputs": [
        {
          "output_type": "execute_result",
          "data": {
            "text/plain": [
              "{'jee': 'eclipse', 'jse': 'netbeans'}"
            ]
          },
          "metadata": {},
          "execution_count": 50
        }
      ]
    },
    {
      "cell_type": "markdown",
      "metadata": {
        "id": "xcB8FA5u7eNQ"
      },
      "source": [
        "->variable"
      ]
    },
    {
      "cell_type": "code",
      "metadata": {
        "colab": {
          "base_uri": "https://localhost:8080/"
        },
        "id": "TDF0YMbM7jMm",
        "outputId": "b9d681de-ed23-404b-ca03-db6eb07f01f5"
      },
      "source": [
        "num=6\n",
        "id(num)"
      ],
      "execution_count": 58,
      "outputs": [
        {
          "output_type": "execute_result",
          "data": {
            "text/plain": [
              "94430835092128"
            ]
          },
          "metadata": {},
          "execution_count": 58
        }
      ]
    },
    {
      "cell_type": "code",
      "metadata": {
        "colab": {
          "base_uri": "https://localhost:8080/"
        },
        "id": "41lhlSRh8Eq7",
        "outputId": "6fe89179-32a7-4a84-e628-61c4128b04c5"
      },
      "source": [
        "name='berry'\n",
        "id(name)"
      ],
      "execution_count": 59,
      "outputs": [
        {
          "output_type": "execute_result",
          "data": {
            "text/plain": [
              "139998434297712"
            ]
          },
          "metadata": {},
          "execution_count": 59
        }
      ]
    },
    {
      "cell_type": "code",
      "metadata": {
        "colab": {
          "base_uri": "https://localhost:8080/"
        },
        "id": "n9lJHAML8CrU",
        "outputId": "7f2fe526-0f28-4f83-edec-1a7040eb248b"
      },
      "source": [
        "a=3\n",
        "b=a\n",
        "a"
      ],
      "execution_count": 61,
      "outputs": [
        {
          "output_type": "execute_result",
          "data": {
            "text/plain": [
              "3"
            ]
          },
          "metadata": {},
          "execution_count": 61
        }
      ]
    },
    {
      "cell_type": "code",
      "metadata": {
        "colab": {
          "base_uri": "https://localhost:8080/"
        },
        "id": "aNcEEvPW8VzV",
        "outputId": "178124c9-a734-410b-9125-53fde07a5bd2"
      },
      "source": [
        "b"
      ],
      "execution_count": 62,
      "outputs": [
        {
          "output_type": "execute_result",
          "data": {
            "text/plain": [
              "3"
            ]
          },
          "metadata": {},
          "execution_count": 62
        }
      ]
    },
    {
      "cell_type": "code",
      "metadata": {
        "colab": {
          "base_uri": "https://localhost:8080/"
        },
        "id": "fjOFypWd8XrC",
        "outputId": "5ff1ec93-c5ba-4694-b897-51d74306a954"
      },
      "source": [
        "id(a)"
      ],
      "execution_count": 63,
      "outputs": [
        {
          "output_type": "execute_result",
          "data": {
            "text/plain": [
              "94430835092032"
            ]
          },
          "metadata": {},
          "execution_count": 63
        }
      ]
    },
    {
      "cell_type": "code",
      "metadata": {
        "colab": {
          "base_uri": "https://localhost:8080/"
        },
        "id": "AqMqIMmB8ZuE",
        "outputId": "204af447-252b-4e6f-e3ff-38d52c90d5ff"
      },
      "source": [
        "id(b)"
      ],
      "execution_count": 64,
      "outputs": [
        {
          "output_type": "execute_result",
          "data": {
            "text/plain": [
              "94430835092032"
            ]
          },
          "metadata": {},
          "execution_count": 64
        }
      ]
    },
    {
      "cell_type": "code",
      "metadata": {
        "colab": {
          "base_uri": "https://localhost:8080/"
        },
        "id": "1Vwk9UMD8cLx",
        "outputId": "8f4db442-240d-41b9-e60f-a49fcc917c5e"
      },
      "source": [
        "id(3)"
      ],
      "execution_count": 66,
      "outputs": [
        {
          "output_type": "execute_result",
          "data": {
            "text/plain": [
              "94430835092032"
            ]
          },
          "metadata": {},
          "execution_count": 66
        }
      ]
    },
    {
      "cell_type": "code",
      "metadata": {
        "colab": {
          "base_uri": "https://localhost:8080/"
        },
        "id": "eoPVORWu8lTc",
        "outputId": "4c2f9122-ce2a-48bc-9fb5-8f0eafe64e64"
      },
      "source": [
        "k=3\n",
        "id(k)"
      ],
      "execution_count": 68,
      "outputs": [
        {
          "output_type": "execute_result",
          "data": {
            "text/plain": [
              "94430835092032"
            ]
          },
          "metadata": {},
          "execution_count": 68
        }
      ]
    },
    {
      "cell_type": "markdown",
      "metadata": {
        "id": "uNgLsWB985Lw"
      },
      "source": [
        "->data types in python-numeric,list,tuple,set,string,range,dictionary"
      ]
    },
    {
      "cell_type": "markdown",
      "metadata": {
        "id": "ICGlCi4--nf0"
      },
      "source": [
        "1.numeric"
      ]
    },
    {
      "cell_type": "code",
      "metadata": {
        "colab": {
          "base_uri": "https://localhost:8080/"
        },
        "id": "Z2Ki2ur--oon",
        "outputId": "58e8628d-89da-485a-a1f2-7254a7288ecf"
      },
      "source": [
        "#int\n",
        "num=6\n",
        "type(num)"
      ],
      "execution_count": 69,
      "outputs": [
        {
          "output_type": "execute_result",
          "data": {
            "text/plain": [
              "int"
            ]
          },
          "metadata": {},
          "execution_count": 69
        }
      ]
    },
    {
      "cell_type": "code",
      "metadata": {
        "colab": {
          "base_uri": "https://localhost:8080/"
        },
        "id": "xZwWWZYH--An",
        "outputId": "2cd9ebdb-80a3-4bda-c504-9d72ec283edc"
      },
      "source": [
        "#float\n",
        "num=3.6\n",
        "type(num)"
      ],
      "execution_count": 70,
      "outputs": [
        {
          "output_type": "execute_result",
          "data": {
            "text/plain": [
              "float"
            ]
          },
          "metadata": {},
          "execution_count": 70
        }
      ]
    },
    {
      "cell_type": "code",
      "metadata": {
        "colab": {
          "base_uri": "https://localhost:8080/"
        },
        "id": "mQLMQMFE_FCU",
        "outputId": "28ecc796-a907-4fc5-ab2d-1352badbca38"
      },
      "source": [
        "#decimal to float\n",
        "a=10\n",
        "b=float(a)\n",
        "b\n"
      ],
      "execution_count": 71,
      "outputs": [
        {
          "output_type": "execute_result",
          "data": {
            "text/plain": [
              "10.0"
            ]
          },
          "metadata": {},
          "execution_count": 71
        }
      ]
    },
    {
      "cell_type": "code",
      "metadata": {
        "colab": {
          "base_uri": "https://localhost:8080/"
        },
        "id": "BKEZ8Q_7_S2T",
        "outputId": "aef5ebf8-6863-4cba-c2b7-625f973be14c"
      },
      "source": [
        "type(b)"
      ],
      "execution_count": 72,
      "outputs": [
        {
          "output_type": "execute_result",
          "data": {
            "text/plain": [
              "float"
            ]
          },
          "metadata": {},
          "execution_count": 72
        }
      ]
    },
    {
      "cell_type": "code",
      "metadata": {
        "colab": {
          "base_uri": "https://localhost:8080/"
        },
        "id": "Qu9kj_Ug_V4X",
        "outputId": "1f06e416-3713-4e04-e383-c94f8e5ba794"
      },
      "source": [
        "#float toint\n",
        "a=5.5\n",
        "b=int(a)\n",
        "b"
      ],
      "execution_count": 74,
      "outputs": [
        {
          "output_type": "execute_result",
          "data": {
            "text/plain": [
              "5"
            ]
          },
          "metadata": {},
          "execution_count": 74
        }
      ]
    },
    {
      "cell_type": "code",
      "metadata": {
        "colab": {
          "base_uri": "https://localhost:8080/"
        },
        "id": "IINIt0Wd_mu-",
        "outputId": "d3d07246-cb41-4a0b-ead2-d0b69e580fd6"
      },
      "source": [
        "type(b)"
      ],
      "execution_count": 75,
      "outputs": [
        {
          "output_type": "execute_result",
          "data": {
            "text/plain": [
              "int"
            ]
          },
          "metadata": {},
          "execution_count": 75
        }
      ]
    },
    {
      "cell_type": "code",
      "metadata": {
        "colab": {
          "base_uri": "https://localhost:8080/"
        },
        "id": "gjeqiE4r_pu6",
        "outputId": "876ae87e-ba55-4acc-d8d6-4009d54929a0"
      },
      "source": [
        "#coverting to complex\n",
        "h=3\n",
        "c=complex(h,b)\n",
        "c"
      ],
      "execution_count": 78,
      "outputs": [
        {
          "output_type": "execute_result",
          "data": {
            "text/plain": [
              "(3+5j)"
            ]
          },
          "metadata": {},
          "execution_count": 78
        }
      ]
    },
    {
      "cell_type": "code",
      "metadata": {
        "colab": {
          "base_uri": "https://localhost:8080/"
        },
        "id": "XVQCQf-iAclU",
        "outputId": "6a41d3f1-85af-449d-9b05-d52e628f5310"
      },
      "source": [
        "#bool\n",
        "a=8\n",
        "b=0\n",
        "a>b"
      ],
      "execution_count": 80,
      "outputs": [
        {
          "output_type": "execute_result",
          "data": {
            "text/plain": [
              "True"
            ]
          },
          "metadata": {},
          "execution_count": 80
        }
      ]
    },
    {
      "cell_type": "code",
      "metadata": {
        "colab": {
          "base_uri": "https://localhost:8080/"
        },
        "id": "NICny2eKAyB1",
        "outputId": "5d36d120-dfe1-425d-eced-d284fb38032f"
      },
      "source": [
        "a<b"
      ],
      "execution_count": 81,
      "outputs": [
        {
          "output_type": "execute_result",
          "data": {
            "text/plain": [
              "False"
            ]
          },
          "metadata": {},
          "execution_count": 81
        }
      ]
    },
    {
      "cell_type": "code",
      "metadata": {
        "colab": {
          "base_uri": "https://localhost:8080/"
        },
        "id": "jpvmVPuEA1mP",
        "outputId": "53121f88-07cc-4332-eb29-189de14aa9d8"
      },
      "source": [
        "c=a>b\n",
        "c"
      ],
      "execution_count": 83,
      "outputs": [
        {
          "output_type": "execute_result",
          "data": {
            "text/plain": [
              "True"
            ]
          },
          "metadata": {},
          "execution_count": 83
        }
      ]
    },
    {
      "cell_type": "code",
      "metadata": {
        "colab": {
          "base_uri": "https://localhost:8080/"
        },
        "id": "BDZ1tlwLBAAt",
        "outputId": "cded1216-5112-4bb0-cdbd-5679b33bde74"
      },
      "source": [
        "type(c)"
      ],
      "execution_count": 84,
      "outputs": [
        {
          "output_type": "execute_result",
          "data": {
            "text/plain": [
              "bool"
            ]
          },
          "metadata": {},
          "execution_count": 84
        }
      ]
    },
    {
      "cell_type": "code",
      "metadata": {
        "colab": {
          "base_uri": "https://localhost:8080/"
        },
        "id": "td8LtS5DBLsT",
        "outputId": "3ad420b8-0313-4cbd-f0ed-88f3f5e7780b"
      },
      "source": [
        "int(True)"
      ],
      "execution_count": 87,
      "outputs": [
        {
          "output_type": "execute_result",
          "data": {
            "text/plain": [
              "1"
            ]
          },
          "metadata": {},
          "execution_count": 87
        }
      ]
    },
    {
      "cell_type": "code",
      "metadata": {
        "colab": {
          "base_uri": "https://localhost:8080/"
        },
        "id": "uIXGVIWYBOQb",
        "outputId": "181e89a7-a27d-4472-fdc3-d3d3a7f8457d"
      },
      "source": [
        "int(False)"
      ],
      "execution_count": 88,
      "outputs": [
        {
          "output_type": "execute_result",
          "data": {
            "text/plain": [
              "0"
            ]
          },
          "metadata": {},
          "execution_count": 88
        }
      ]
    },
    {
      "cell_type": "markdown",
      "metadata": {
        "id": "X2KIzNaMBuTB"
      },
      "source": [
        "2.list"
      ]
    },
    {
      "cell_type": "code",
      "metadata": {
        "colab": {
          "base_uri": "https://localhost:8080/"
        },
        "id": "EB0kZ-BABwdv",
        "outputId": "e0c6106d-2338-4404-ecc4-130c0b4defad"
      },
      "source": [
        "l=[1,2,3,4]\n",
        "type(l)"
      ],
      "execution_count": 89,
      "outputs": [
        {
          "output_type": "execute_result",
          "data": {
            "text/plain": [
              "list"
            ]
          },
          "metadata": {},
          "execution_count": 89
        }
      ]
    },
    {
      "cell_type": "markdown",
      "metadata": {
        "id": "pj5hwEOWB7Ig"
      },
      "source": [
        "3.set"
      ]
    },
    {
      "cell_type": "code",
      "metadata": {
        "colab": {
          "base_uri": "https://localhost:8080/"
        },
        "id": "PzPKgZr6B8b9",
        "outputId": "6a3d58b3-4925-492e-b768-6a07a7190f0c"
      },
      "source": [
        "s={1,2,3,4}\n",
        "type(s)"
      ],
      "execution_count": 92,
      "outputs": [
        {
          "output_type": "execute_result",
          "data": {
            "text/plain": [
              "set"
            ]
          },
          "metadata": {},
          "execution_count": 92
        }
      ]
    },
    {
      "cell_type": "markdown",
      "metadata": {
        "id": "n9DaHAJCCLs9"
      },
      "source": [
        "4.tuple"
      ]
    },
    {
      "cell_type": "code",
      "metadata": {
        "colab": {
          "base_uri": "https://localhost:8080/"
        },
        "id": "zE4qGFn9CNWU",
        "outputId": "9b724e4a-46d3-4c31-82c6-d9380b1a1e1c"
      },
      "source": [
        "t=(1,2,3,4,5)\n",
        "type(t)"
      ],
      "execution_count": 93,
      "outputs": [
        {
          "output_type": "execute_result",
          "data": {
            "text/plain": [
              "tuple"
            ]
          },
          "metadata": {},
          "execution_count": 93
        }
      ]
    },
    {
      "cell_type": "code",
      "metadata": {
        "id": "mNSYeXLaCUQn"
      },
      "source": [
        "5.string"
      ],
      "execution_count": null,
      "outputs": []
    },
    {
      "cell_type": "code",
      "metadata": {
        "colab": {
          "base_uri": "https://localhost:8080/"
        },
        "id": "rreFe7U3CebS",
        "outputId": "edcc1f85-2374-4a1e-f0c1-4727055ea3df"
      },
      "source": [
        "str='hi'\n",
        "type(str)"
      ],
      "execution_count": 94,
      "outputs": [
        {
          "output_type": "execute_result",
          "data": {
            "text/plain": [
              "str"
            ]
          },
          "metadata": {},
          "execution_count": 94
        }
      ]
    },
    {
      "cell_type": "markdown",
      "metadata": {
        "id": "Tmzd-xkhCj7H"
      },
      "source": [
        "6.range"
      ]
    },
    {
      "cell_type": "code",
      "metadata": {
        "colab": {
          "base_uri": "https://localhost:8080/"
        },
        "id": "Ls5K3IgoCnTh",
        "outputId": "f2aa40b5-a89d-4945-ac34-38c3fe090b13"
      },
      "source": [
        "r=range(10)\n",
        "r"
      ],
      "execution_count": 101,
      "outputs": [
        {
          "output_type": "execute_result",
          "data": {
            "text/plain": [
              "range(0, 10)"
            ]
          },
          "metadata": {},
          "execution_count": 101
        }
      ]
    },
    {
      "cell_type": "code",
      "metadata": {
        "colab": {
          "base_uri": "https://localhost:8080/"
        },
        "id": "SqAEP1L_DG4R",
        "outputId": "9f6e094c-cc53-4c1d-86e9-0bb7b047f9f3"
      },
      "source": [
        "list(range(10))"
      ],
      "execution_count": 103,
      "outputs": [
        {
          "output_type": "execute_result",
          "data": {
            "text/plain": [
              "[0, 1, 2, 3, 4, 5, 6, 7, 8, 9]"
            ]
          },
          "metadata": {},
          "execution_count": 103
        }
      ]
    },
    {
      "cell_type": "code",
      "metadata": {
        "colab": {
          "base_uri": "https://localhost:8080/"
        },
        "id": "cMgDFD8sDS9i",
        "outputId": "03132f71-74e1-4547-9bda-3d41e02ddb1e"
      },
      "source": [
        "set(range(10))"
      ],
      "execution_count": 104,
      "outputs": [
        {
          "output_type": "execute_result",
          "data": {
            "text/plain": [
              "{0, 1, 2, 3, 4, 5, 6, 7, 8, 9}"
            ]
          },
          "metadata": {},
          "execution_count": 104
        }
      ]
    },
    {
      "cell_type": "code",
      "metadata": {
        "colab": {
          "base_uri": "https://localhost:8080/"
        },
        "id": "K5yorrHVDXEP",
        "outputId": "4f79ca36-a04b-4bb0-f0fe-6643a930b76e"
      },
      "source": [
        "tuple(range(10))"
      ],
      "execution_count": 105,
      "outputs": [
        {
          "output_type": "execute_result",
          "data": {
            "text/plain": [
              "(0, 1, 2, 3, 4, 5, 6, 7, 8, 9)"
            ]
          },
          "metadata": {},
          "execution_count": 105
        }
      ]
    },
    {
      "cell_type": "code",
      "metadata": {
        "colab": {
          "base_uri": "https://localhost:8080/"
        },
        "id": "Ha6JlAG7DhsZ",
        "outputId": "2f39eff3-afc1-4b43-f915-dd1f4f8b9322"
      },
      "source": [
        "#difference from range\n",
        "list(range(2,10,2))"
      ],
      "execution_count": 108,
      "outputs": [
        {
          "output_type": "execute_result",
          "data": {
            "text/plain": [
              "[2, 4, 6, 8]"
            ]
          },
          "metadata": {},
          "execution_count": 108
        }
      ]
    },
    {
      "cell_type": "code",
      "metadata": {
        "colab": {
          "base_uri": "https://localhost:8080/"
        },
        "id": "d-tML59OD7EV",
        "outputId": "02349590-3710-4de6-c445-0c8bddb0ebb8"
      },
      "source": [
        "type(r)"
      ],
      "execution_count": 109,
      "outputs": [
        {
          "output_type": "execute_result",
          "data": {
            "text/plain": [
              "range"
            ]
          },
          "metadata": {},
          "execution_count": 109
        }
      ]
    },
    {
      "cell_type": "markdown",
      "metadata": {
        "id": "PgM4Gcg6EL-j"
      },
      "source": [
        "7.dictionary"
      ]
    },
    {
      "cell_type": "code",
      "metadata": {
        "colab": {
          "base_uri": "https://localhost:8080/"
        },
        "id": "VtcEPpDKENcz",
        "outputId": "7cab901e-1439-4c83-a7f6-2f9a9c0a361e"
      },
      "source": [
        "d={1:'cherry',2:'indhu',3:'dheeru'}\n",
        "d"
      ],
      "execution_count": 110,
      "outputs": [
        {
          "output_type": "execute_result",
          "data": {
            "text/plain": [
              "{1: 'cherry', 2: 'indhu', 3: 'dheeru'}"
            ]
          },
          "metadata": {},
          "execution_count": 110
        }
      ]
    },
    {
      "cell_type": "code",
      "metadata": {
        "colab": {
          "base_uri": "https://localhost:8080/"
        },
        "id": "p9L_PQcPEeIi",
        "outputId": "efee66db-504e-425a-cc87-03026b6c7a8c"
      },
      "source": [
        "d.keys()"
      ],
      "execution_count": 111,
      "outputs": [
        {
          "output_type": "execute_result",
          "data": {
            "text/plain": [
              "dict_keys([1, 2, 3])"
            ]
          },
          "metadata": {},
          "execution_count": 111
        }
      ]
    },
    {
      "cell_type": "code",
      "metadata": {
        "colab": {
          "base_uri": "https://localhost:8080/"
        },
        "id": "V8OyqUpwEiLt",
        "outputId": "5222d9bd-028e-4013-fd65-804a14f9baa0"
      },
      "source": [
        "d.values()"
      ],
      "execution_count": 112,
      "outputs": [
        {
          "output_type": "execute_result",
          "data": {
            "text/plain": [
              "dict_values(['cherry', 'indhu', 'dheeru'])"
            ]
          },
          "metadata": {},
          "execution_count": 112
        }
      ]
    },
    {
      "cell_type": "code",
      "metadata": {
        "colab": {
          "base_uri": "https://localhost:8080/",
          "height": 35
        },
        "id": "OnPImhmHEnWe",
        "outputId": "52555185-5d3f-4ea4-b143-bb780d273895"
      },
      "source": [
        "d[1]"
      ],
      "execution_count": 113,
      "outputs": [
        {
          "output_type": "execute_result",
          "data": {
            "application/vnd.google.colaboratory.intrinsic+json": {
              "type": "string"
            },
            "text/plain": [
              "'cherry'"
            ]
          },
          "metadata": {},
          "execution_count": 113
        }
      ]
    },
    {
      "cell_type": "code",
      "metadata": {
        "colab": {
          "base_uri": "https://localhost:8080/",
          "height": 35
        },
        "id": "28pEv-xAEqK2",
        "outputId": "3cb9bb7c-1419-4e65-a8e2-819c5fea2d93"
      },
      "source": [
        "d.get(2)"
      ],
      "execution_count": 114,
      "outputs": [
        {
          "output_type": "execute_result",
          "data": {
            "application/vnd.google.colaboratory.intrinsic+json": {
              "type": "string"
            },
            "text/plain": [
              "'indhu'"
            ]
          },
          "metadata": {},
          "execution_count": 114
        }
      ]
    },
    {
      "cell_type": "markdown",
      "metadata": {
        "id": "47jPXoU6FF6K"
      },
      "source": [
        "->operations in python-arthmetic,assignment,relational,logical,unary"
      ]
    },
    {
      "cell_type": "markdown",
      "metadata": {
        "id": "VC8EeEd8Fgyf"
      },
      "source": [
        "1.arthmetic-x+y,x-y,x*y,x/y"
      ]
    },
    {
      "cell_type": "code",
      "metadata": {
        "colab": {
          "base_uri": "https://localhost:8080/"
        },
        "id": "_0PIr4FRFj6H",
        "outputId": "9a8d16e2-ff94-434c-d427-ca3c76067e83"
      },
      "source": [
        "x=4\n",
        "y=2\n",
        "x+y"
      ],
      "execution_count": 115,
      "outputs": [
        {
          "output_type": "execute_result",
          "data": {
            "text/plain": [
              "6"
            ]
          },
          "metadata": {},
          "execution_count": 115
        }
      ]
    },
    {
      "cell_type": "code",
      "metadata": {
        "colab": {
          "base_uri": "https://localhost:8080/"
        },
        "id": "Gb0TxKp6GAA5",
        "outputId": "a070ec5e-35c8-4e6b-e7cb-a508e728b336"
      },
      "source": [
        "x-y"
      ],
      "execution_count": 116,
      "outputs": [
        {
          "output_type": "execute_result",
          "data": {
            "text/plain": [
              "2"
            ]
          },
          "metadata": {},
          "execution_count": 116
        }
      ]
    },
    {
      "cell_type": "code",
      "metadata": {
        "colab": {
          "base_uri": "https://localhost:8080/"
        },
        "id": "QU_kZVogGCrX",
        "outputId": "36cf5e25-6d84-49be-9439-253ecd42a0ac"
      },
      "source": [
        "x*y"
      ],
      "execution_count": 117,
      "outputs": [
        {
          "output_type": "execute_result",
          "data": {
            "text/plain": [
              "8"
            ]
          },
          "metadata": {},
          "execution_count": 117
        }
      ]
    },
    {
      "cell_type": "code",
      "metadata": {
        "colab": {
          "base_uri": "https://localhost:8080/"
        },
        "id": "KXLVBEV4GHSX",
        "outputId": "31a738d3-46e8-4098-80c9-420e9d6e405f"
      },
      "source": [
        "x/y"
      ],
      "execution_count": 118,
      "outputs": [
        {
          "output_type": "execute_result",
          "data": {
            "text/plain": [
              "2.0"
            ]
          },
          "metadata": {},
          "execution_count": 118
        }
      ]
    },
    {
      "cell_type": "markdown",
      "metadata": {
        "id": "_PEFRnfMGMUn"
      },
      "source": [
        "2.assignment- +=,*="
      ]
    },
    {
      "cell_type": "code",
      "metadata": {
        "colab": {
          "base_uri": "https://localhost:8080/"
        },
        "id": "Yf3_9yz8GfoB",
        "outputId": "1e0bae90-980b-45c0-ed92-7320e0c38e61"
      },
      "source": [
        "x=4\n",
        "x+=2\n",
        "x"
      ],
      "execution_count": 119,
      "outputs": [
        {
          "output_type": "execute_result",
          "data": {
            "text/plain": [
              "6"
            ]
          },
          "metadata": {},
          "execution_count": 119
        }
      ]
    },
    {
      "cell_type": "code",
      "metadata": {
        "colab": {
          "base_uri": "https://localhost:8080/"
        },
        "id": "EQuxrcKfGq3x",
        "outputId": "92781cc3-ea55-4dc2-a1f2-81bcebf1ad7d"
      },
      "source": [
        "x*=2\n",
        "x"
      ],
      "execution_count": 123,
      "outputs": [
        {
          "output_type": "execute_result",
          "data": {
            "text/plain": [
              "144"
            ]
          },
          "metadata": {},
          "execution_count": 123
        }
      ]
    },
    {
      "cell_type": "code",
      "metadata": {
        "colab": {
          "base_uri": "https://localhost:8080/"
        },
        "id": "QRZC2sLMHLiT",
        "outputId": "11144cc2-7de0-4a64-f544-6ef57b8aa4b8"
      },
      "source": [
        "a,b=4,6\n",
        "a"
      ],
      "execution_count": 124,
      "outputs": [
        {
          "output_type": "execute_result",
          "data": {
            "text/plain": [
              "4"
            ]
          },
          "metadata": {},
          "execution_count": 124
        }
      ]
    },
    {
      "cell_type": "code",
      "metadata": {
        "colab": {
          "base_uri": "https://localhost:8080/"
        },
        "id": "UOowq0kGHQew",
        "outputId": "f9dbe8b8-8acb-494b-a0f5-4baf335ab977"
      },
      "source": [
        "b"
      ],
      "execution_count": 125,
      "outputs": [
        {
          "output_type": "execute_result",
          "data": {
            "text/plain": [
              "6"
            ]
          },
          "metadata": {},
          "execution_count": 125
        }
      ]
    },
    {
      "cell_type": "markdown",
      "metadata": {
        "id": "nTfqITy3HS3p"
      },
      "source": [
        "3.relational-a>b,a<b,a==b,a<=b,a>=b,a!=b"
      ]
    },
    {
      "cell_type": "code",
      "metadata": {
        "colab": {
          "base_uri": "https://localhost:8080/"
        },
        "id": "rh873ZyoHg12",
        "outputId": "dbe57ebb-3762-404b-ba30-ec4914bd1043"
      },
      "source": [
        "a=5\n",
        "b=8\n",
        "a>b"
      ],
      "execution_count": 126,
      "outputs": [
        {
          "output_type": "execute_result",
          "data": {
            "text/plain": [
              "False"
            ]
          },
          "metadata": {},
          "execution_count": 126
        }
      ]
    },
    {
      "cell_type": "code",
      "metadata": {
        "colab": {
          "base_uri": "https://localhost:8080/"
        },
        "id": "I-cX4fUDHpHu",
        "outputId": "d225dc6a-247b-4fce-b1f2-38614fc0fa84"
      },
      "source": [
        "a>=b"
      ],
      "execution_count": 127,
      "outputs": [
        {
          "output_type": "execute_result",
          "data": {
            "text/plain": [
              "False"
            ]
          },
          "metadata": {},
          "execution_count": 127
        }
      ]
    },
    {
      "cell_type": "code",
      "metadata": {
        "colab": {
          "base_uri": "https://localhost:8080/"
        },
        "id": "L42k190sHtRQ",
        "outputId": "e85abdf0-4ad7-4a8d-e7d5-11daae3e1af9"
      },
      "source": [
        "a<=b"
      ],
      "execution_count": 128,
      "outputs": [
        {
          "output_type": "execute_result",
          "data": {
            "text/plain": [
              "True"
            ]
          },
          "metadata": {},
          "execution_count": 128
        }
      ]
    },
    {
      "cell_type": "code",
      "metadata": {
        "colab": {
          "base_uri": "https://localhost:8080/"
        },
        "id": "yI61uqEgHvem",
        "outputId": "bd98c112-03da-44da-f08a-0df7a3a1a514"
      },
      "source": [
        "a!=b"
      ],
      "execution_count": 129,
      "outputs": [
        {
          "output_type": "execute_result",
          "data": {
            "text/plain": [
              "True"
            ]
          },
          "metadata": {},
          "execution_count": 129
        }
      ]
    },
    {
      "cell_type": "markdown",
      "metadata": {
        "id": "O1UYm292HyHx"
      },
      "source": [
        "4.logical-and,or,not"
      ]
    },
    {
      "cell_type": "code",
      "metadata": {
        "colab": {
          "base_uri": "https://localhost:8080/"
        },
        "id": "1hL7EFpcH2LF",
        "outputId": "c05f35b0-2266-4cf8-b02e-0d14675bfc06"
      },
      "source": [
        "a=9\n",
        "b=6\n",
        "a>7 and b>5"
      ],
      "execution_count": 131,
      "outputs": [
        {
          "output_type": "execute_result",
          "data": {
            "text/plain": [
              "True"
            ]
          },
          "metadata": {},
          "execution_count": 131
        }
      ]
    },
    {
      "cell_type": "code",
      "metadata": {
        "colab": {
          "base_uri": "https://localhost:8080/"
        },
        "id": "S1uXrZGvIMI1",
        "outputId": "57b26370-f311-4664-dd21-97e9230b2833"
      },
      "source": [
        "a<7 and b>5"
      ],
      "execution_count": 134,
      "outputs": [
        {
          "output_type": "execute_result",
          "data": {
            "text/plain": [
              "False"
            ]
          },
          "metadata": {},
          "execution_count": 134
        }
      ]
    },
    {
      "cell_type": "code",
      "metadata": {
        "colab": {
          "base_uri": "https://localhost:8080/"
        },
        "id": "eCg9k1MoIRpd",
        "outputId": "34785fe7-58d2-40b4-fdb4-eaeef305590f"
      },
      "source": [
        "a>7 or b<5"
      ],
      "execution_count": 133,
      "outputs": [
        {
          "output_type": "execute_result",
          "data": {
            "text/plain": [
              "True"
            ]
          },
          "metadata": {},
          "execution_count": 133
        }
      ]
    },
    {
      "cell_type": "code",
      "metadata": {
        "colab": {
          "base_uri": "https://localhost:8080/"
        },
        "id": "6rHoABnYIaqZ",
        "outputId": "de887a28-0ec7-4a3d-f4f2-3cabadede787"
      },
      "source": [
        "a=True\n",
        "a"
      ],
      "execution_count": 137,
      "outputs": [
        {
          "output_type": "execute_result",
          "data": {
            "text/plain": [
              "True"
            ]
          },
          "metadata": {},
          "execution_count": 137
        }
      ]
    },
    {
      "cell_type": "code",
      "metadata": {
        "colab": {
          "base_uri": "https://localhost:8080/"
        },
        "id": "gyDp-7UZIryH",
        "outputId": "410077c2-26ac-44e3-a8c8-0d07ac1c04fb"
      },
      "source": [
        "not a"
      ],
      "execution_count": 138,
      "outputs": [
        {
          "output_type": "execute_result",
          "data": {
            "text/plain": [
              "False"
            ]
          },
          "metadata": {},
          "execution_count": 138
        }
      ]
    },
    {
      "cell_type": "code",
      "metadata": {
        "colab": {
          "base_uri": "https://localhost:8080/"
        },
        "id": "FoAyW8XbIyYL",
        "outputId": "f96074da-9f4b-4ff2-dbb6-f62a636004a6"
      },
      "source": [
        "a=not True\n",
        "a"
      ],
      "execution_count": 140,
      "outputs": [
        {
          "output_type": "execute_result",
          "data": {
            "text/plain": [
              "False"
            ]
          },
          "metadata": {},
          "execution_count": 140
        }
      ]
    },
    {
      "cell_type": "markdown",
      "metadata": {
        "id": "_HVFDaKaJGMS"
      },
      "source": [
        "->number system conversion in python-decimal,binary,octal,hexa decimal"
      ]
    },
    {
      "cell_type": "code",
      "metadata": {
        "colab": {
          "base_uri": "https://localhost:8080/",
          "height": 35
        },
        "id": "UgYAv-DWJMcf",
        "outputId": "f1ec44fb-52fa-44ec-953d-df23ad0a49b8"
      },
      "source": [
        "#decimal to binary\n",
        "bin(34)"
      ],
      "execution_count": 141,
      "outputs": [
        {
          "output_type": "execute_result",
          "data": {
            "application/vnd.google.colaboratory.intrinsic+json": {
              "type": "string"
            },
            "text/plain": [
              "'0b100010'"
            ]
          },
          "metadata": {},
          "execution_count": 141
        }
      ]
    },
    {
      "cell_type": "code",
      "metadata": {
        "colab": {
          "base_uri": "https://localhost:8080/"
        },
        "id": "v-miZDwyJy2G",
        "outputId": "4b4bf288-a4ff-4428-be16-2be8ba88588a"
      },
      "source": [
        "#binary to decimal\n",
        "0b0101"
      ],
      "execution_count": 142,
      "outputs": [
        {
          "output_type": "execute_result",
          "data": {
            "text/plain": [
              "5"
            ]
          },
          "metadata": {},
          "execution_count": 142
        }
      ]
    },
    {
      "cell_type": "code",
      "metadata": {
        "colab": {
          "base_uri": "https://localhost:8080/",
          "height": 35
        },
        "id": "vT4uOSF5KNEj",
        "outputId": "bc2d062e-82e1-4074-945a-c27247012837"
      },
      "source": [
        "#decimal to oct\n",
        "oct(25)"
      ],
      "execution_count": 143,
      "outputs": [
        {
          "output_type": "execute_result",
          "data": {
            "application/vnd.google.colaboratory.intrinsic+json": {
              "type": "string"
            },
            "text/plain": [
              "'0o31'"
            ]
          },
          "metadata": {},
          "execution_count": 143
        }
      ]
    },
    {
      "cell_type": "code",
      "metadata": {
        "colab": {
          "base_uri": "https://localhost:8080/",
          "height": 35
        },
        "id": "_CtBAGSUMxaW",
        "outputId": "e67eb888-b5a4-4fc9-f76c-5c3ee3f58ca6"
      },
      "source": [
        "#decimal to hex\n",
        "hex(7)\n"
      ],
      "execution_count": 146,
      "outputs": [
        {
          "output_type": "execute_result",
          "data": {
            "application/vnd.google.colaboratory.intrinsic+json": {
              "type": "string"
            },
            "text/plain": [
              "'0x7'"
            ]
          },
          "metadata": {},
          "execution_count": 146
        }
      ]
    },
    {
      "cell_type": "code",
      "metadata": {
        "colab": {
          "base_uri": "https://localhost:8080/"
        },
        "id": "BV5CEdYgNN1l",
        "outputId": "ef9b8d1d-64a2-4b7a-c259-6c488bec6e6b"
      },
      "source": [
        "#hex to dec\n",
        "0xf"
      ],
      "execution_count": 147,
      "outputs": [
        {
          "output_type": "execute_result",
          "data": {
            "text/plain": [
              "15"
            ]
          },
          "metadata": {},
          "execution_count": 147
        }
      ]
    },
    {
      "cell_type": "code",
      "metadata": {
        "colab": {
          "base_uri": "https://localhost:8080/"
        },
        "id": "Y4M7ivoSNXV2",
        "outputId": "635d9107-1289-4336-8291-eda737a7bed5"
      },
      "source": [
        "#oct to dec\n",
        "0o31"
      ],
      "execution_count": 148,
      "outputs": [
        {
          "output_type": "execute_result",
          "data": {
            "text/plain": [
              "25"
            ]
          },
          "metadata": {},
          "execution_count": 148
        }
      ]
    },
    {
      "cell_type": "markdown",
      "metadata": {
        "id": "s9Z1q2y1Nh6z"
      },
      "source": [
        "->swap two numbers"
      ]
    },
    {
      "cell_type": "code",
      "metadata": {
        "colab": {
          "base_uri": "https://localhost:8080/"
        },
        "id": "BH1s0ul9No7p",
        "outputId": "6ffeae44-b8a7-4ca2-a7f8-df54ff65c37c"
      },
      "source": [
        "#using temp\n",
        "a=6\n",
        "b=8\n",
        "temp=a\n",
        "a=b\n",
        "b=temp\n",
        "print(a)\n",
        "print(b)\n"
      ],
      "execution_count": 152,
      "outputs": [
        {
          "output_type": "stream",
          "text": [
            "8\n",
            "6\n"
          ],
          "name": "stdout"
        }
      ]
    },
    {
      "cell_type": "code",
      "metadata": {
        "colab": {
          "base_uri": "https://localhost:8080/"
        },
        "id": "jfCvFlCqN8cg",
        "outputId": "01ab1998-9331-4065-8820-9090e08531ac"
      },
      "source": [
        "#without using third variable\n",
        "a=6\n",
        "b=8\n",
        "a=a^b\n",
        "b=a^b\n",
        "a=a^b\n",
        "print(a)\n",
        "print(b)"
      ],
      "execution_count": 156,
      "outputs": [
        {
          "output_type": "stream",
          "text": [
            "8\n",
            "6\n"
          ],
          "name": "stdout"
        }
      ]
    },
    {
      "cell_type": "code",
      "metadata": {
        "colab": {
          "base_uri": "https://localhost:8080/"
        },
        "id": "hXvBGzOxO7HF",
        "outputId": "9a09b34e-fc6f-4b30-9765-0ea771c0f8a9"
      },
      "source": [
        "#simple swap\n",
        "a=6\n",
        "b=8\n",
        "a,b=b,a\n",
        "print(a)\n",
        "print(b)"
      ],
      "execution_count": 157,
      "outputs": [
        {
          "output_type": "stream",
          "text": [
            "8\n",
            "6\n"
          ],
          "name": "stdout"
        }
      ]
    },
    {
      "cell_type": "markdown",
      "metadata": {
        "id": "5KJRhwkLPGpL"
      },
      "source": [
        "->bitwise operators-complement,and,or,xor,left shift,right shift"
      ]
    },
    {
      "cell_type": "code",
      "metadata": {
        "colab": {
          "base_uri": "https://localhost:8080/"
        },
        "id": "H2r7_DTdPUwX",
        "outputId": "cf1d46b3-93be-4a09-be88-fb097a05afde"
      },
      "source": [
        "#complement(~)\n",
        "~12"
      ],
      "execution_count": 158,
      "outputs": [
        {
          "output_type": "execute_result",
          "data": {
            "text/plain": [
              "-13"
            ]
          },
          "metadata": {},
          "execution_count": 158
        }
      ]
    },
    {
      "cell_type": "code",
      "metadata": {
        "colab": {
          "base_uri": "https://localhost:8080/"
        },
        "id": "SnYUtebxPjeL",
        "outputId": "e7bc960d-dda9-43f9-de9e-536cef374c73"
      },
      "source": [
        "#and(&)\n",
        "23&67"
      ],
      "execution_count": 162,
      "outputs": [
        {
          "output_type": "execute_result",
          "data": {
            "text/plain": [
              "3"
            ]
          },
          "metadata": {},
          "execution_count": 162
        }
      ]
    },
    {
      "cell_type": "code",
      "metadata": {
        "colab": {
          "base_uri": "https://localhost:8080/"
        },
        "id": "CXEW7iNsPyCL",
        "outputId": "7c2305c4-f253-4b69-e13c-9c879612d902"
      },
      "source": [
        "#or(|)\n",
        "12|13"
      ],
      "execution_count": 164,
      "outputs": [
        {
          "output_type": "execute_result",
          "data": {
            "text/plain": [
              "13"
            ]
          },
          "metadata": {},
          "execution_count": 164
        }
      ]
    },
    {
      "cell_type": "code",
      "metadata": {
        "colab": {
          "base_uri": "https://localhost:8080/"
        },
        "id": "oIbljcttQWse",
        "outputId": "f6e2341e-5963-4676-a1c5-5dd3c6af87aa"
      },
      "source": [
        "#xor(^)\n",
        "12^13"
      ],
      "execution_count": 165,
      "outputs": [
        {
          "output_type": "execute_result",
          "data": {
            "text/plain": [
              "1"
            ]
          },
          "metadata": {},
          "execution_count": 165
        }
      ]
    },
    {
      "cell_type": "code",
      "metadata": {
        "colab": {
          "base_uri": "https://localhost:8080/"
        },
        "id": "hg03t8idQxez",
        "outputId": "eb336b47-ea44-4685-c3e7-83ae1de3631a"
      },
      "source": [
        "#left shift\n",
        "10<<2"
      ],
      "execution_count": 166,
      "outputs": [
        {
          "output_type": "execute_result",
          "data": {
            "text/plain": [
              "40"
            ]
          },
          "metadata": {},
          "execution_count": 166
        }
      ]
    },
    {
      "cell_type": "code",
      "metadata": {
        "colab": {
          "base_uri": "https://localhost:8080/"
        },
        "id": "kNn4oU_FRUPH",
        "outputId": "73182cc9-c724-48d9-9738-e082228920d3"
      },
      "source": [
        "#right shift\n",
        "10>>2"
      ],
      "execution_count": 167,
      "outputs": [
        {
          "output_type": "execute_result",
          "data": {
            "text/plain": [
              "2"
            ]
          },
          "metadata": {},
          "execution_count": 167
        }
      ]
    },
    {
      "cell_type": "markdown",
      "metadata": {
        "id": "1qOJHtKhRavL"
      },
      "source": [
        "->import math function in python"
      ]
    },
    {
      "cell_type": "code",
      "metadata": {
        "colab": {
          "base_uri": "https://localhost:8080/"
        },
        "id": "eI4fUuKbRgYk",
        "outputId": "8191d54e-810b-441c-ad95-e5195fc99304"
      },
      "source": [
        "import math\n",
        "print(math.sqrt(25))"
      ],
      "execution_count": 169,
      "outputs": [
        {
          "output_type": "stream",
          "text": [
            "5.0\n"
          ],
          "name": "stdout"
        }
      ]
    },
    {
      "cell_type": "code",
      "metadata": {
        "colab": {
          "base_uri": "https://localhost:8080/"
        },
        "id": "9JSHeDxcR4D5",
        "outputId": "8a565e1a-84a8-448a-ce83-79183209e1d7"
      },
      "source": [
        "print(math.floor(2.9))"
      ],
      "execution_count": 172,
      "outputs": [
        {
          "output_type": "stream",
          "text": [
            "2\n"
          ],
          "name": "stdout"
        }
      ]
    },
    {
      "cell_type": "code",
      "metadata": {
        "colab": {
          "base_uri": "https://localhost:8080/"
        },
        "id": "bT2QIpZHSHo-",
        "outputId": "a1ddeda3-fd87-49f7-d678-c451b8ebcacd"
      },
      "source": [
        "print(math.ceil(2.4))"
      ],
      "execution_count": 174,
      "outputs": [
        {
          "output_type": "stream",
          "text": [
            "3\n"
          ],
          "name": "stdout"
        }
      ]
    },
    {
      "cell_type": "code",
      "metadata": {
        "colab": {
          "base_uri": "https://localhost:8080/"
        },
        "id": "G1JOQukPSSRR",
        "outputId": "32c328a9-f18c-4bf0-85b9-f5f8d126fe67"
      },
      "source": [
        "3**2"
      ],
      "execution_count": 175,
      "outputs": [
        {
          "output_type": "execute_result",
          "data": {
            "text/plain": [
              "9"
            ]
          },
          "metadata": {},
          "execution_count": 175
        }
      ]
    },
    {
      "cell_type": "code",
      "metadata": {
        "colab": {
          "base_uri": "https://localhost:8080/"
        },
        "id": "c0kugwkRSVDh",
        "outputId": "92e87af7-25a4-4735-d3b2-0cd0047a18bb"
      },
      "source": [
        "print(math.pow(3,3))"
      ],
      "execution_count": 178,
      "outputs": [
        {
          "output_type": "stream",
          "text": [
            "27.0\n"
          ],
          "name": "stdout"
        }
      ]
    },
    {
      "cell_type": "code",
      "metadata": {
        "colab": {
          "base_uri": "https://localhost:8080/"
        },
        "id": "oA-r72qnSgcr",
        "outputId": "471c0e74-98f1-4e88-e433-159795de3245"
      },
      "source": [
        "print(math.pi)"
      ],
      "execution_count": 179,
      "outputs": [
        {
          "output_type": "stream",
          "text": [
            "3.141592653589793\n"
          ],
          "name": "stdout"
        }
      ]
    },
    {
      "cell_type": "code",
      "metadata": {
        "colab": {
          "base_uri": "https://localhost:8080/"
        },
        "id": "8pB1EKESSkKG",
        "outputId": "36b9f8ca-cbf9-4e6a-d53e-96094e030a12"
      },
      "source": [
        "print(math.e)"
      ],
      "execution_count": 181,
      "outputs": [
        {
          "output_type": "stream",
          "text": [
            "2.718281828459045\n"
          ],
          "name": "stdout"
        }
      ]
    },
    {
      "cell_type": "code",
      "metadata": {
        "colab": {
          "base_uri": "https://localhost:8080/"
        },
        "id": "T2XjE027StE6",
        "outputId": "9f6bf011-b934-4942-bcb1-958eaaa3da03"
      },
      "source": [
        "import math as m\n",
        "print(m.sqrt(25))"
      ],
      "execution_count": 182,
      "outputs": [
        {
          "output_type": "stream",
          "text": [
            "5.0\n"
          ],
          "name": "stdout"
        }
      ]
    },
    {
      "cell_type": "code",
      "metadata": {
        "colab": {
          "base_uri": "https://localhost:8080/"
        },
        "id": "wm2ToFBnTFAY",
        "outputId": "c4e69649-9f79-45b0-a598-54437abe5257"
      },
      "source": [
        "pow(2,3)"
      ],
      "execution_count": 183,
      "outputs": [
        {
          "output_type": "execute_result",
          "data": {
            "text/plain": [
              "8"
            ]
          },
          "metadata": {},
          "execution_count": 183
        }
      ]
    },
    {
      "cell_type": "code",
      "metadata": {
        "colab": {
          "base_uri": "https://localhost:8080/"
        },
        "id": "KAJ-VXb6TRTu",
        "outputId": "2dd66b12-612f-40f8-9cc3-50fe6993c450"
      },
      "source": [
        "from math import sqrt\n",
        "sqrt(25)"
      ],
      "execution_count": 186,
      "outputs": [
        {
          "output_type": "execute_result",
          "data": {
            "text/plain": [
              "5.0"
            ]
          },
          "metadata": {},
          "execution_count": 186
        }
      ]
    }
  ]
}