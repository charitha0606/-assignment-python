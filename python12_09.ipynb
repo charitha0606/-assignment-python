{
  "nbformat": 4,
  "nbformat_minor": 0,
  "metadata": {
    "colab": {
      "name": "python12_09.ipynb",
      "provenance": [],
      "authorship_tag": "ABX9TyNCMX9wCJ6vRuiFJUjzxd3m",
      "include_colab_link": true
    },
    "kernelspec": {
      "name": "python3",
      "display_name": "Python 3"
    },
    "language_info": {
      "name": "python"
    }
  },
  "cells": [
    {
      "cell_type": "markdown",
      "metadata": {
        "id": "view-in-github",
        "colab_type": "text"
      },
      "source": [
        "<a href=\"https://colab.research.google.com/github/charitha0606/-assignment-python/blob/master/python12_09.ipynb\" target=\"_parent\"><img src=\"https://colab.research.google.com/assets/colab-badge.svg\" alt=\"Open In Colab\"/></a>"
      ]
    },
    {
      "cell_type": "markdown",
      "metadata": {
        "id": "HPaDg4BjUehh"
      },
      "source": [
        "->ways of creating arrays in python"
      ]
    },
    {
      "cell_type": "code",
      "metadata": {
        "colab": {
          "base_uri": "https://localhost:8080/"
        },
        "id": "SuyBSRpxVd4w",
        "outputId": "27198906-d9f0-4a3c-c670-004f84a9a774"
      },
      "source": [
        "#1.array()\n",
        "from numpy import*\n",
        "arr=array([1,2,3,4])\n",
        "print(arr)"
      ],
      "execution_count": 1,
      "outputs": [
        {
          "output_type": "stream",
          "name": "stdout",
          "text": [
            "[1 2 3 4]\n"
          ]
        }
      ]
    },
    {
      "cell_type": "code",
      "metadata": {
        "colab": {
          "base_uri": "https://localhost:8080/"
        },
        "id": "lUVbCDAwWKt9",
        "outputId": "c8650e9e-1818-4357-cbc3-63a0ffb94c08"
      },
      "source": [
        "#1.array()\n",
        "from numpy import*\n",
        "arr=array([1,2,3,4,5.0])\n",
        "print(arr)\n",
        "print(arr.dtype)"
      ],
      "execution_count": 3,
      "outputs": [
        {
          "output_type": "stream",
          "name": "stdout",
          "text": [
            "[1. 2. 3. 4. 5.]\n",
            "float64\n"
          ]
        }
      ]
    },
    {
      "cell_type": "code",
      "metadata": {
        "colab": {
          "base_uri": "https://localhost:8080/"
        },
        "id": "GuPPOCnHW_t_",
        "outputId": "0363e60c-dad6-439e-a27a-daf8b1f34620"
      },
      "source": [
        "#2.linspace()\n",
        "from numpy import*\n",
        "a=linspace(0,10,11)\n",
        "print(a)"
      ],
      "execution_count": 9,
      "outputs": [
        {
          "output_type": "stream",
          "name": "stdout",
          "text": [
            "[ 0.  1.  2.  3.  4.  5.  6.  7.  8.  9. 10.]\n"
          ]
        }
      ]
    },
    {
      "cell_type": "code",
      "metadata": {
        "colab": {
          "base_uri": "https://localhost:8080/"
        },
        "id": "FrDI_s77XgWa",
        "outputId": "dcf4721f-7ef9-4c69-c036-c63858e3ed5e"
      },
      "source": [
        "#3.logspace()\n",
        "from numpy import*\n",
        "a=logspace(1,20,5)\n",
        "print(a)"
      ],
      "execution_count": 10,
      "outputs": [
        {
          "output_type": "stream",
          "name": "stdout",
          "text": [
            "[1.00000000e+01 5.62341325e+05 3.16227766e+10 1.77827941e+15\n",
            " 1.00000000e+20]\n"
          ]
        }
      ]
    },
    {
      "cell_type": "code",
      "metadata": {
        "colab": {
          "base_uri": "https://localhost:8080/"
        },
        "id": "eL7HzCYAYlXC",
        "outputId": "c5f3bfde-826a-4e0f-c9db-c2b377c09eef"
      },
      "source": [
        "#4.arange\n",
        "from numpy import*\n",
        "a=arange(0,10,2)\n",
        "print(a)"
      ],
      "execution_count": 13,
      "outputs": [
        {
          "output_type": "stream",
          "name": "stdout",
          "text": [
            "[0 2 4 6 8]\n"
          ]
        }
      ]
    },
    {
      "cell_type": "code",
      "metadata": {
        "colab": {
          "base_uri": "https://localhost:8080/"
        },
        "id": "xGm1M6aVYji-",
        "outputId": "f86d42fd-6d12-419a-d310-6242fdc71697"
      },
      "source": [
        "#5.zeroes()\n",
        "from numpy import*\n",
        "a=zeros(5)\n",
        "print(a)"
      ],
      "execution_count": 16,
      "outputs": [
        {
          "output_type": "stream",
          "name": "stdout",
          "text": [
            "[0. 0. 0. 0. 0.]\n"
          ]
        }
      ]
    },
    {
      "cell_type": "code",
      "metadata": {
        "colab": {
          "base_uri": "https://localhost:8080/"
        },
        "id": "3aInBRS7aF7l",
        "outputId": "8da4a64d-ccfe-4ff4-edd6-4955cb2083fd"
      },
      "source": [
        "#6.ones()\n",
        "from numpy import*\n",
        "a=ones(5,int)\n",
        "print(a)"
      ],
      "execution_count": 17,
      "outputs": [
        {
          "output_type": "stream",
          "name": "stdout",
          "text": [
            "[1 1 1 1 1]\n"
          ]
        }
      ]
    },
    {
      "cell_type": "markdown",
      "metadata": {
        "id": "MivzZbOoaUAC"
      },
      "source": [
        "->copying an array in python"
      ]
    },
    {
      "cell_type": "code",
      "metadata": {
        "colab": {
          "base_uri": "https://localhost:8080/"
        },
        "id": "UHb_Jktuag5a",
        "outputId": "a0654666-e6a7-4876-e029-87c92db6dd11"
      },
      "source": [
        "from numpy import*\n",
        "a=array([1,2,3,4,5])\n",
        "a=a+5\n",
        "print(a)"
      ],
      "execution_count": 18,
      "outputs": [
        {
          "output_type": "stream",
          "name": "stdout",
          "text": [
            "[ 6  7  8  9 10]\n"
          ]
        }
      ]
    },
    {
      "cell_type": "code",
      "metadata": {
        "colab": {
          "base_uri": "https://localhost:8080/"
        },
        "id": "Gj7l9oWLbT5b",
        "outputId": "52202f14-b6d8-41ad-ef5d-51c89216da18"
      },
      "source": [
        "from numpy import*\n",
        "a1=array([1,2,3,4,5])\n",
        "a2=array([6,7,8,9,10])\n",
        "a=a1+a2\n",
        "print(a)"
      ],
      "execution_count": 20,
      "outputs": [
        {
          "output_type": "stream",
          "name": "stdout",
          "text": [
            "[ 7  9 11 13 15]\n"
          ]
        }
      ]
    },
    {
      "cell_type": "code",
      "metadata": {
        "colab": {
          "base_uri": "https://localhost:8080/"
        },
        "id": "UxJuOrC4bpIW",
        "outputId": "ec688e63-70a0-4971-9069-4626fb3f1c15"
      },
      "source": [
        "from numpy import*\n",
        "a=array([1,2,3])\n",
        "print(log(a))\n",
        "print(sin(a))\n",
        "print(cos(a))"
      ],
      "execution_count": 21,
      "outputs": [
        {
          "output_type": "stream",
          "name": "stdout",
          "text": [
            "[0.         0.69314718 1.09861229]\n",
            "[0.84147098 0.90929743 0.14112001]\n",
            "[ 0.54030231 -0.41614684 -0.9899925 ]\n"
          ]
        }
      ]
    },
    {
      "cell_type": "code",
      "metadata": {
        "colab": {
          "base_uri": "https://localhost:8080/"
        },
        "id": "-ssR6-gmcp7c",
        "outputId": "50caefca-44ef-489a-c1f2-40e923d24335"
      },
      "source": [
        "from numpy import*\n",
        "a1=([1,2,3])\n",
        "a2=([4,5,6])\n",
        "print(concatenate([a1,a2]))"
      ],
      "execution_count": 22,
      "outputs": [
        {
          "output_type": "stream",
          "name": "stdout",
          "text": [
            "[1 2 3 4 5 6]\n"
          ]
        }
      ]
    },
    {
      "cell_type": "code",
      "metadata": {
        "colab": {
          "base_uri": "https://localhost:8080/"
        },
        "id": "KcFZkUlncdVN",
        "outputId": "e7b63307-619f-4882-f498-627e18dd5425"
      },
      "source": [
        "from numpy import*\n",
        "a1=array([2,4,6,8,10])\n",
        "a2=a1\n",
        "print(a1)\n",
        "print(a2)\n",
        "print(id(a1))\n",
        "print(id(a2))"
      ],
      "execution_count": 23,
      "outputs": [
        {
          "output_type": "stream",
          "name": "stdout",
          "text": [
            "[ 2  4  6  8 10]\n",
            "[ 2  4  6  8 10]\n",
            "140691445609456\n",
            "140691445609456\n"
          ]
        }
      ]
    },
    {
      "cell_type": "code",
      "metadata": {
        "colab": {
          "base_uri": "https://localhost:8080/"
        },
        "id": "0VEgaL5EeGx4",
        "outputId": "1c6e3fd3-9d16-42b8-8325-09e0b4559612"
      },
      "source": [
        "from numpy import*\n",
        "a1=array([2,4,6,8,10])\n",
        "a2=a1.view()\n",
        "print(a1)\n",
        "print(a2)\n",
        "print(id(a1))\n",
        "print(id(a2))"
      ],
      "execution_count": 24,
      "outputs": [
        {
          "output_type": "stream",
          "name": "stdout",
          "text": [
            "[ 2  4  6  8 10]\n",
            "[ 2  4  6  8 10]\n",
            "140691445419344\n",
            "140691445418224\n"
          ]
        }
      ]
    },
    {
      "cell_type": "markdown",
      "metadata": {
        "id": "bGQ956yueRmr"
      },
      "source": [
        "alaising,view\n"
      ]
    },
    {
      "cell_type": "code",
      "metadata": {
        "colab": {
          "base_uri": "https://localhost:8080/"
        },
        "id": "lYfZIqWafGRQ",
        "outputId": "50c8f0a7-3043-46f5-d2fa-2bedfbb45a27"
      },
      "source": [
        "#shallow copy\n",
        "from numpy import*\n",
        "a1=array([2,4,6,8])\n",
        "a2=a1.view()\n",
        "a1[1]=7\n",
        "print(a1)\n",
        "print(a2)\n",
        "print(id(a1))\n",
        "print(id(a2))"
      ],
      "execution_count": 25,
      "outputs": [
        {
          "output_type": "stream",
          "name": "stdout",
          "text": [
            "[2 7 6 8]\n",
            "[2 7 6 8]\n",
            "140691445310528\n",
            "140691445312608\n"
          ]
        }
      ]
    },
    {
      "cell_type": "code",
      "metadata": {
        "colab": {
          "base_uri": "https://localhost:8080/"
        },
        "id": "objdb8KqfjY0",
        "outputId": "9821627d-1f93-401f-f05a-9fa2c36d2924"
      },
      "source": [
        "#deep copy\n",
        "from numpy import*\n",
        "a1=array([2,4,6,8])\n",
        "a2=a1.copy()\n",
        "a1[1]=7\n",
        "print(a1)\n",
        "print(a2)\n",
        "print(id(a1))\n",
        "print(id(a2))"
      ],
      "execution_count": 27,
      "outputs": [
        {
          "output_type": "stream",
          "name": "stdout",
          "text": [
            "[2 7 6 8]\n",
            "[2 4 6 8]\n",
            "140691445130704\n",
            "140691445643184\n"
          ]
        }
      ]
    },
    {
      "cell_type": "markdown",
      "metadata": {
        "id": "J9A0sJiVgC9R"
      },
      "source": [
        "->working with matrix in python"
      ]
    },
    {
      "cell_type": "code",
      "metadata": {
        "colab": {
          "base_uri": "https://localhost:8080/"
        },
        "id": "-BKiut7ngNAD",
        "outputId": "c7efd0a2-85d0-4874-c90c-17567683be2d"
      },
      "source": [
        "from numpy import*\n",
        "a1=array([\n",
        "          [1,2],\n",
        "          [3,4]\n",
        "          ])\n",
        "print(a1)\n",
        "a2=a1.flatten()\n",
        "print(a2)"
      ],
      "execution_count": 34,
      "outputs": [
        {
          "output_type": "stream",
          "name": "stdout",
          "text": [
            "[[1 2]\n",
            " [3 4]]\n",
            "[1 2 3 4]\n"
          ]
        }
      ]
    },
    {
      "cell_type": "code",
      "metadata": {
        "colab": {
          "base_uri": "https://localhost:8080/"
        },
        "id": "PqYPW9UPhZTJ",
        "outputId": "4b5d41ae-7a7a-4c50-b924-4aeeafb82308"
      },
      "source": [
        "from numpy import*\n",
        "a1=array([\n",
        "          [1,2],\n",
        "          [3,4]\n",
        "          ])\n",
        "print(a1)\n",
        "a1.dtype\n",
        "a1.shape\n",
        "a1.size\n"
      ],
      "execution_count": 37,
      "outputs": [
        {
          "output_type": "stream",
          "name": "stdout",
          "text": [
            "[[1 2]\n",
            " [3 4]]\n"
          ]
        },
        {
          "output_type": "execute_result",
          "data": {
            "text/plain": [
              "4"
            ]
          },
          "metadata": {},
          "execution_count": 37
        }
      ]
    },
    {
      "cell_type": "code",
      "metadata": {
        "colab": {
          "base_uri": "https://localhost:8080/"
        },
        "id": "EYCowlE-hk49",
        "outputId": "0d524fae-737d-404f-d1c4-29f9e77df8fb"
      },
      "source": [
        "from numpy import*\n",
        "arr1=array([\n",
        "            [1,2,3,4],\n",
        "            [4,5,6,7]\n",
        "            ])\n",
        "arr2=arr1.flatten()\n",
        "print(arr2)"
      ],
      "execution_count": 45,
      "outputs": [
        {
          "output_type": "stream",
          "name": "stdout",
          "text": [
            "[1 2 3 4 4 5 6 7]\n"
          ]
        }
      ]
    }
  ]
}