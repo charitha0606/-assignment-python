{
  "nbformat": 4,
  "nbformat_minor": 0,
  "metadata": {
    "colab": {
      "name": "Stack.ipynb",
      "provenance": [],
      "authorship_tag": "ABX9TyMvJWJ3Z/33cNVGymSr27N+",
      "include_colab_link": true
    },
    "kernelspec": {
      "name": "python3",
      "display_name": "Python 3"
    }
  },
  "cells": [
    {
      "cell_type": "markdown",
      "metadata": {
        "id": "view-in-github",
        "colab_type": "text"
      },
      "source": [
        "<a href=\"https://colab.research.google.com/github/charitha0606/-assignment-python/blob/master/Stack.ipynb\" target=\"_parent\"><img src=\"https://colab.research.google.com/assets/colab-badge.svg\" alt=\"Open In Colab\"/></a>"
      ]
    },
    {
      "cell_type": "code",
      "metadata": {
        "colab": {
          "base_uri": "https://localhost:8080/"
        },
        "id": "sU1w1NrPF3dz",
        "outputId": "834f1b20-a219-4446-a2d4-80f6b8e3d6ac"
      },
      "source": [
        " \n",
        "class Node:\n",
        "    def __init__(self, data):\n",
        "        self.data = data\n",
        "        self.next = None\n",
        " \n",
        "# Given a reference (pointer to pointer)\n",
        "# to the head of a list and an int,\n",
        "# inserts a new node on the front of the list.\n",
        " \n",
        " \n",
        "def push(head_ref, new_data):\n",
        "    new_node = Node(0)\n",
        "    new_node.data = new_data\n",
        "    new_node.next = (head_ref)\n",
        "    (head_ref) = new_node\n",
        "    return head_ref\n",
        " \n",
        "# Given a reference (pointer to pointer)\n",
        "# to the head of a list and a key,\n",
        "# deletes all occurrence of the given key\n",
        "# in linked list\n",
        " \n",
        " \n",
        "def deleteKey(head_ref, key):\n",
        " \n",
        "    # Store head node\n",
        "    temp = head_ref\n",
        "    prev = None\n",
        " \n",
        "    # If head node itself holds the key\n",
        "    # or multiple occurrences of key\n",
        "    while (temp != None and temp.data == key):\n",
        "        head_ref = temp.next  # Changed head\n",
        "        temp = head_ref         # Change Temp\n",
        " \n",
        "    # Delete occurrences other than head\n",
        "    while (temp != None):\n",
        " \n",
        "        # Search for the key to be deleted,\n",
        "        # keep track of the previous node\n",
        "        # as we need to change 'prev.next'\n",
        "        while (temp != None and temp.data != key):\n",
        "            prev = temp\n",
        "            temp = temp.next\n",
        " \n",
        "        # If key was not present in linked list\n",
        "        if (temp == None):\n",
        "            return head_ref\n",
        " \n",
        "        # Unlink the node from linked list\n",
        "        prev.next = temp.next\n",
        " \n",
        "        # Update Temp for next iteration of outer loop\n",
        "        temp = prev.next\n",
        "    return head_ref\n",
        " \n",
        "# This function prints contents of linked list\n",
        "# starting from the given node\n",
        " \n",
        " \n",
        "def printList(node):\n",
        "    while (node != None):\n",
        "        print(node.data, end=\" \")\n",
        "        node = node.next\n",
        " \n",
        " \n",
        "# Driver Code\n",
        "if __name__ == '__main__':\n",
        " \n",
        "    # Start with the empty list\n",
        "    head = None\n",
        " \n",
        "    head = push(head, 7)\n",
        "    head = push(head, 2)\n",
        "    head = push(head, 3)\n",
        "    head = push(head, 2)\n",
        "    head = push(head, 8)\n",
        "    head = push(head, 1)\n",
        "    head = push(head, 2)\n",
        "    head = push(head, 2)\n",
        " \n",
        "    key = 2  # key to delete\n",
        " \n",
        "    print(\"Created Linked List: \")\n",
        "    printList(head)\n",
        " \n",
        "    # Function call\n",
        "    head = deleteKey(head, key)\n",
        "    print(\"\\nLinked List after Deletion is: \")\n",
        " \n",
        "    printList(head)"
      ],
      "execution_count": 1,
      "outputs": [
        {
          "output_type": "stream",
          "text": [
            "Created Linked List: \n",
            "2 2 1 8 2 3 2 7 \n",
            "Linked List after Deletion is: \n",
            "1 8 3 7 "
          ],
          "name": "stdout"
        }
      ]
    },
    {
      "cell_type": "code",
      "metadata": {
        "colab": {
          "base_uri": "https://localhost:8080/"
        },
        "id": "OW2zksFeIMvT",
        "outputId": "e282abe0-0414-458b-e0b0-b848368aeed7"
      },
      "source": [
        " \n",
        "# Python program to \n",
        "# demonstrate stack implementation\n",
        "# using list\n",
        " \n",
        " \n",
        " \n",
        "stack = []\n",
        " \n",
        "# append() function to push\n",
        "# element in the stack\n",
        " \n",
        "stack.append('a')\n",
        " \n",
        "stack.append('b')\n",
        " \n",
        "stack.append('c')\n",
        " \n",
        " \n",
        "print('Initial stack')\n",
        " \n",
        "print(stack)\n",
        " \n",
        "# pop() fucntion to pop\n",
        "# element from stack in \n",
        "# LIFO order\n",
        " \n",
        "print('\\nElements poped from stack:')\n",
        " \n",
        "print(stack.pop())\n",
        " \n",
        "print(stack.pop())\n",
        " \n",
        "print(stack.pop())\n",
        " \n",
        " \n",
        "print('\\nStack after elements are poped:')\n",
        " \n",
        "print(stack)\n",
        " \n",
        "# uncommenting print(stack.pop())  \n",
        "# will cause an IndexError \n",
        "# as the stack is now empty"
      ],
      "execution_count": 2,
      "outputs": [
        {
          "output_type": "stream",
          "text": [
            "Initial stack\n",
            "['a', 'b', 'c']\n",
            "\n",
            "Elements poped from stack:\n",
            "c\n",
            "b\n",
            "a\n",
            "\n",
            "Stack after elements are poped:\n",
            "[]\n"
          ],
          "name": "stdout"
        }
      ]
    },
    {
      "cell_type": "code",
      "metadata": {
        "colab": {
          "base_uri": "https://localhost:8080/"
        },
        "id": "WDx1f28cI62Q",
        "outputId": "e2d3d585-857c-43de-f29e-092f4decdf4a"
      },
      "source": [
        " \n",
        "stack = []\n",
        "stack.append('a')\n",
        "stack.append('b')\n",
        "stack.append('c')\n",
        " \n",
        "print('Initial stack')\n",
        "print(stack)\n",
        "print('\\nElements poped from stack:')\n",
        "print(stack.pop())\n",
        "print(stack.pop())\n",
        " \n",
        "print('\\nStack after elements are poped:')\n",
        "print(stack)"
      ],
      "execution_count": 3,
      "outputs": [
        {
          "output_type": "stream",
          "text": [
            "Initial stack\n",
            "['a', 'b', 'c']\n",
            "\n",
            "Elements poped from stack:\n",
            "c\n",
            "b\n",
            "\n",
            "Stack after elements are poped:\n",
            "['a']\n"
          ],
          "name": "stdout"
        }
      ]
    }
  ]
}