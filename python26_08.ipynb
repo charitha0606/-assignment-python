{
  "nbformat": 4,
  "nbformat_minor": 0,
  "metadata": {
    "colab": {
      "name": "python26-08.ipynb",
      "provenance": [],
      "authorship_tag": "ABX9TyPGvD92PkD6nI0bb2mznvec",
      "include_colab_link": true
    },
    "kernelspec": {
      "name": "python3",
      "display_name": "Python 3"
    },
    "language_info": {
      "name": "python"
    }
  },
  "cells": [
    {
      "cell_type": "markdown",
      "metadata": {
        "id": "view-in-github",
        "colab_type": "text"
      },
      "source": [
        "<a href=\"https://colab.research.google.com/github/charitha0606/-assignment-python/blob/master/python26_08.ipynb\" target=\"_parent\"><img src=\"https://colab.research.google.com/assets/colab-badge.svg\" alt=\"Open In Colab\"/></a>"
      ]
    },
    {
      "cell_type": "code",
      "metadata": {
        "colab": {
          "base_uri": "https://localhost:8080/"
        },
        "id": "snJzRtIe3iOW",
        "outputId": "54122aca-1470-4ccf-dcce-f1aed81950b3"
      },
      "source": [
        "2+3"
      ],
      "execution_count": 2,
      "outputs": [
        {
          "output_type": "execute_result",
          "data": {
            "text/plain": [
              "5"
            ]
          },
          "metadata": {},
          "execution_count": 2
        }
      ]
    },
    {
      "cell_type": "markdown",
      "metadata": {
        "id": "he7Ojdp2WZNS"
      },
      "source": [
        "strings=combination of characters ,'',immutable"
      ]
    },
    {
      "cell_type": "code",
      "metadata": {
        "colab": {
          "base_uri": "https://localhost:8080/"
        },
        "id": "nExMzcpE7Pvu",
        "outputId": "20dff7bf-1d8a-45a5-cce8-d6d9cf4eabd5"
      },
      "source": [
        "#string\n",
        "print('c:\\docs\\nharitha')"
      ],
      "execution_count": 1,
      "outputs": [
        {
          "output_type": "stream",
          "text": [
            "c:\\docs\n",
            "haritha\n"
          ],
          "name": "stdout"
        }
      ]
    },
    {
      "cell_type": "code",
      "metadata": {
        "colab": {
          "base_uri": "https://localhost:8080/"
        },
        "id": "uDOuJ0BE__6F",
        "outputId": "0320cdcd-17b2-4b5f-81ab-074e93ad5aab"
      },
      "source": [
        "myname='charithakammari'\n",
        "len(myname)"
      ],
      "execution_count": 10,
      "outputs": [
        {
          "output_type": "execute_result",
          "data": {
            "text/plain": [
              "15"
            ]
          },
          "metadata": {},
          "execution_count": 10
        }
      ]
    },
    {
      "cell_type": "code",
      "metadata": {
        "id": "K0f3hewsWwTr",
        "outputId": "5ce78259-e647-4150-cb8a-88bd141948be",
        "colab": {
          "base_uri": "https://localhost:8080/"
        }
      },
      "source": [
        "print(\"charitha's laptop\")"
      ],
      "execution_count": 2,
      "outputs": [
        {
          "output_type": "stream",
          "text": [
            "charitha's laptop\n"
          ],
          "name": "stdout"
        }
      ]
    },
    {
      "cell_type": "code",
      "metadata": {
        "id": "QGaqnnVWW2V4",
        "outputId": "544b15cd-6e9a-435e-f2d6-1704b1931c13",
        "colab": {
          "base_uri": "https://localhost:8080/",
          "height": 132
        }
      },
      "source": [
        "print('charitha's \"laptop\")"
      ],
      "execution_count": 3,
      "outputs": [
        {
          "output_type": "error",
          "ename": "SyntaxError",
          "evalue": "ignored",
          "traceback": [
            "\u001b[0;36m  File \u001b[0;32m\"<ipython-input-3-8680db488f1c>\"\u001b[0;36m, line \u001b[0;32m1\u001b[0m\n\u001b[0;31m    print('charitha's \"laptop\")\u001b[0m\n\u001b[0m                    ^\u001b[0m\n\u001b[0;31mSyntaxError\u001b[0m\u001b[0;31m:\u001b[0m invalid syntax\n"
          ]
        }
      ]
    },
    {
      "cell_type": "code",
      "metadata": {
        "id": "GCZLCWoeXCxY",
        "outputId": "276342d1-dd2a-46f7-b17a-b2e3daf8286a",
        "colab": {
          "base_uri": "https://localhost:8080/"
        }
      },
      "source": [
        "print('charitha\\'s laptop')"
      ],
      "execution_count": 5,
      "outputs": [
        {
          "output_type": "stream",
          "text": [
            "charitha's laptop\n"
          ],
          "name": "stdout"
        }
      ]
    },
    {
      "cell_type": "code",
      "metadata": {
        "id": "HmfAh35NXSlL",
        "outputId": "e55501eb-2352-4764-a73c-e7d8befee445",
        "colab": {
          "base_uri": "https://localhost:8080/",
          "height": 35
        }
      },
      "source": [
        "'cherry'+'cherry'\n"
      ],
      "execution_count": 7,
      "outputs": [
        {
          "output_type": "execute_result",
          "data": {
            "application/vnd.google.colaboratory.intrinsic+json": {
              "type": "string"
            },
            "text/plain": [
              "'cherrycherry'"
            ]
          },
          "metadata": {},
          "execution_count": 7
        }
      ]
    },
    {
      "cell_type": "code",
      "metadata": {
        "id": "_DfLmm2PXdRe",
        "outputId": "2b539f22-d03a-40eb-bf6c-b442aef54828",
        "colab": {
          "base_uri": "https://localhost:8080/",
          "height": 35
        }
      },
      "source": [
        "20*'cherry'"
      ],
      "execution_count": 9,
      "outputs": [
        {
          "output_type": "execute_result",
          "data": {
            "application/vnd.google.colaboratory.intrinsic+json": {
              "type": "string"
            },
            "text/plain": [
              "'cherrycherrycherrycherrycherrycherrycherrycherrycherrycherrycherrycherrycherrycherrycherrycherrycherrycherrycherrycherry'"
            ]
          },
          "metadata": {},
          "execution_count": 9
        }
      ]
    },
    {
      "cell_type": "markdown",
      "metadata": {
        "id": "5fsaG6bRXm2a"
      },
      "source": [
        "variable=variable is a container which can store a value\n",
        "\n"
      ]
    },
    {
      "cell_type": "code",
      "metadata": {
        "id": "SrxAgbnGXoNh"
      },
      "source": [
        "x=2"
      ],
      "execution_count": 10,
      "outputs": []
    },
    {
      "cell_type": "code",
      "metadata": {
        "id": "co7SUxbZX802",
        "outputId": "0752de59-bdd4-4aa2-cac2-d9d1ac06cbe0",
        "colab": {
          "base_uri": "https://localhost:8080/"
        }
      },
      "source": [
        "x=2\n",
        "x+10\n",
        "y=20\n",
        "x+y\n",
        "x=15\n",
        "x+y\n",
        "_+y"
      ],
      "execution_count": 17,
      "outputs": [
        {
          "output_type": "execute_result",
          "data": {
            "text/plain": [
              "55"
            ]
          },
          "metadata": {},
          "execution_count": 17
        }
      ]
    },
    {
      "cell_type": "code",
      "metadata": {
        "id": "gz0p37kAYTzx",
        "outputId": "5030ab2d-77e5-45bd-de0f-7e69a327eca3",
        "colab": {
          "base_uri": "https://localhost:8080/",
          "height": 35
        }
      },
      "source": [
        "name=\"youtube\"\n",
        "name\n",
        "name+'rocks'\n",
        "name[0]\n",
        "name[-5]\n",
        "name[2:]\n",
        "name[2:6]\n",
        "name[:-5]\n",
        "name[1:-5] "
      ],
      "execution_count": 28,
      "outputs": [
        {
          "output_type": "execute_result",
          "data": {
            "application/vnd.google.colaboratory.intrinsic+json": {
              "type": "string"
            },
            "text/plain": [
              "'o'"
            ]
          },
          "metadata": {},
          "execution_count": 28
        }
      ]
    },
    {
      "cell_type": "markdown",
      "metadata": {
        "id": "U13756I4aHZV"
      },
      "source": [
        "list=collection of values [],mutable\n",
        "\n"
      ]
    },
    {
      "cell_type": "code",
      "metadata": {
        "id": "NeSIjaLVYCAw",
        "outputId": "793af4a6-f8a2-4833-9e60-d96cf67c1524",
        "colab": {
          "base_uri": "https://localhost:8080/"
        }
      },
      "source": [
        "list=[10,20,30,40,50]\n",
        "list"
      ],
      "execution_count": 29,
      "outputs": [
        {
          "output_type": "execute_result",
          "data": {
            "text/plain": [
              "[10, 20, 30, 40, 50]"
            ]
          },
          "metadata": {},
          "execution_count": 29
        }
      ]
    },
    {
      "cell_type": "code",
      "metadata": {
        "id": "FvDcogfoaQ4N",
        "outputId": "969c53cc-4fbe-4a08-c8ab-10720769ec34",
        "colab": {
          "base_uri": "https://localhost:8080/"
        }
      },
      "source": [
        "list[0]"
      ],
      "execution_count": 30,
      "outputs": [
        {
          "output_type": "execute_result",
          "data": {
            "text/plain": [
              "10"
            ]
          },
          "metadata": {},
          "execution_count": 30
        }
      ]
    },
    {
      "cell_type": "code",
      "metadata": {
        "id": "rzr55zIva3fd",
        "outputId": "a871f1d5-1944-488a-cd2a-f5c0cd6cfdeb",
        "colab": {
          "base_uri": "https://localhost:8080/"
        }
      },
      "source": [
        "list[-5]"
      ],
      "execution_count": 31,
      "outputs": [
        {
          "output_type": "execute_result",
          "data": {
            "text/plain": [
              "10"
            ]
          },
          "metadata": {},
          "execution_count": 31
        }
      ]
    },
    {
      "cell_type": "code",
      "metadata": {
        "id": "WqIC8SoCa75z",
        "outputId": "1f313fbd-7996-41c9-c5f2-b2eefc92c3bc",
        "colab": {
          "base_uri": "https://localhost:8080/"
        }
      },
      "source": [
        "list.pop(2)"
      ],
      "execution_count": 33,
      "outputs": [
        {
          "output_type": "execute_result",
          "data": {
            "text/plain": [
              "30"
            ]
          },
          "metadata": {},
          "execution_count": 33
        }
      ]
    },
    {
      "cell_type": "markdown",
      "metadata": {
        "id": "JzXFAIa0cfAV"
      },
      "source": [
        "tuple-collection of values,(),immutable"
      ]
    },
    {
      "cell_type": "code",
      "metadata": {
        "id": "xv5OhlSUcm5E",
        "outputId": "64a7ead8-f28e-486a-ffc0-819102447a96",
        "colab": {
          "base_uri": "https://localhost:8080/"
        }
      },
      "source": [
        "tuple=(1,2,3,4,5)\n",
        "tuple"
      ],
      "execution_count": 50,
      "outputs": [
        {
          "output_type": "execute_result",
          "data": {
            "text/plain": [
              "(1, 2, 3, 4, 5)"
            ]
          },
          "metadata": {},
          "execution_count": 50
        }
      ]
    },
    {
      "cell_type": "code",
      "metadata": {
        "id": "Uayz4bnicxLn",
        "outputId": "d22498f4-8345-4e57-bf37-e316cc3ec717",
        "colab": {
          "base_uri": "https://localhost:8080/"
        }
      },
      "source": [
        "tuple[3]"
      ],
      "execution_count": 52,
      "outputs": [
        {
          "output_type": "execute_result",
          "data": {
            "text/plain": [
              "4"
            ]
          },
          "metadata": {},
          "execution_count": 52
        }
      ]
    },
    {
      "cell_type": "code",
      "metadata": {
        "id": "Ny-6kK4yc4_1",
        "outputId": "0e8c9e9f-2ec5-4c88-a265-9c6aafa1599f",
        "colab": {
          "base_uri": "https://localhost:8080/"
        }
      },
      "source": [
        "tuple[-3]"
      ],
      "execution_count": 57,
      "outputs": [
        {
          "output_type": "execute_result",
          "data": {
            "text/plain": [
              "3"
            ]
          },
          "metadata": {},
          "execution_count": 57
        }
      ]
    },
    {
      "cell_type": "code",
      "metadata": {
        "id": "P91djPZudQzd",
        "outputId": "e3075992-f66a-41b4-de80-de29035abb80",
        "colab": {
          "base_uri": "https://localhost:8080/"
        }
      },
      "source": [
        "tup=('cherry','jyoshi')\n",
        "tup"
      ],
      "execution_count": 58,
      "outputs": [
        {
          "output_type": "execute_result",
          "data": {
            "text/plain": [
              "('cherry', 'jyoshi')"
            ]
          },
          "metadata": {},
          "execution_count": 58
        }
      ]
    },
    {
      "cell_type": "code",
      "metadata": {
        "id": "DYiKnBDWdZ2T",
        "outputId": "4a137ff7-44b3-4546-c594-62abfa204728",
        "colab": {
          "base_uri": "https://localhost:8080/"
        }
      },
      "source": [
        "tuple+tup"
      ],
      "execution_count": 61,
      "outputs": [
        {
          "output_type": "execute_result",
          "data": {
            "text/plain": [
              "(1, 2, 3, 4, 5, 'cherry', 'jyoshi')"
            ]
          },
          "metadata": {},
          "execution_count": 61
        }
      ]
    },
    {
      "cell_type": "markdown",
      "metadata": {
        "id": "eyayinBadpb_"
      },
      "source": [
        "set-collection of elements,unordered collection of items,mutable,{}"
      ]
    },
    {
      "cell_type": "code",
      "metadata": {
        "id": "N1HQe850d4be",
        "outputId": "c806d1b8-ffc2-49d5-bd8e-285a0ff7d1bd",
        "colab": {
          "base_uri": "https://localhost:8080/"
        }
      },
      "source": [
        "set={11,22,33,44}\n",
        "print(set)"
      ],
      "execution_count": 62,
      "outputs": [
        {
          "output_type": "stream",
          "text": [
            "{33, 11, 44, 22}\n"
          ],
          "name": "stdout"
        }
      ]
    },
    {
      "cell_type": "code",
      "metadata": {
        "id": "Vn1tqc0_eiiH",
        "outputId": "b08d2701-f1d0-482b-fb46-2c4b1ff219dc",
        "colab": {
          "base_uri": "https://localhost:8080/"
        }
      },
      "source": [
        "se={67,90,45,89}\n",
        "se.add(36)\n",
        "se"
      ],
      "execution_count": 71,
      "outputs": [
        {
          "output_type": "execute_result",
          "data": {
            "text/plain": [
              "{36, 45, 67, 89, 90}"
            ]
          },
          "metadata": {},
          "execution_count": 71
        }
      ]
    },
    {
      "cell_type": "code",
      "metadata": {
        "id": "uzqV3l0Kfab9",
        "outputId": "7f7f397c-a5ad-4f8a-a0e8-58ec638d9712",
        "colab": {
          "base_uri": "https://localhost:8080/"
        }
      },
      "source": [
        "se"
      ],
      "execution_count": 77,
      "outputs": [
        {
          "output_type": "execute_result",
          "data": {
            "text/plain": [
              "{36, 67, 89, 90}"
            ]
          },
          "metadata": {},
          "execution_count": 77
        }
      ]
    }
  ]
}