{
  "nbformat": 4,
  "nbformat_minor": 0,
  "metadata": {
    "colab": {
      "name": "python01_09.ipynb",
      "provenance": [],
      "authorship_tag": "ABX9TyO6s8PECL3Ci83XPxtnxeSN",
      "include_colab_link": true
    },
    "kernelspec": {
      "name": "python3",
      "display_name": "Python 3"
    },
    "language_info": {
      "name": "python"
    }
  },
  "cells": [
    {
      "cell_type": "markdown",
      "metadata": {
        "id": "view-in-github",
        "colab_type": "text"
      },
      "source": [
        "<a href=\"https://colab.research.google.com/github/charitha0606/-assignment-python/blob/master/python01_09.ipynb\" target=\"_parent\"><img src=\"https://colab.research.google.com/assets/colab-badge.svg\" alt=\"Open In Colab\"/></a>"
      ]
    },
    {
      "cell_type": "markdown",
      "metadata": {
        "id": "4u3zRU-oHZSH"
      },
      "source": [
        "->user input in python | command line input"
      ]
    },
    {
      "cell_type": "code",
      "metadata": {
        "colab": {
          "base_uri": "https://localhost:8080/"
        },
        "id": "53g-OpL0HjG9",
        "outputId": "2177783a-68fc-4eb2-9dfe-30607b449295"
      },
      "source": [
        "x=int(input(\"enter first number\"))\n",
        "y=int(input(\"enter second number\"))\n",
        "z=x+y\n",
        "print(z)"
      ],
      "execution_count": 1,
      "outputs": [
        {
          "output_type": "stream",
          "name": "stdout",
          "text": [
            "enter first number12\n",
            "enter second number12\n",
            "24\n"
          ]
        }
      ]
    },
    {
      "cell_type": "code",
      "metadata": {
        "colab": {
          "base_uri": "https://localhost:8080/"
        },
        "id": "spXBlJaCIVZA",
        "outputId": "c355e26d-a019-48be-ced8-e725a229a342"
      },
      "source": [
        "ch=input('enter a char:')\n",
        "print(ch)"
      ],
      "execution_count": 5,
      "outputs": [
        {
          "output_type": "stream",
          "name": "stdout",
          "text": [
            "enter a char:hi\n",
            "hi\n"
          ]
        }
      ]
    },
    {
      "cell_type": "code",
      "metadata": {
        "colab": {
          "base_uri": "https://localhost:8080/"
        },
        "id": "SXzTl36fIsaX",
        "outputId": "e6f062aa-feb0-4a57-fde1-f091f3a184d5"
      },
      "source": [
        "a=eval(input('enter the number'))\n",
        "print(a)"
      ],
      "execution_count": 7,
      "outputs": [
        {
          "output_type": "stream",
          "name": "stdout",
          "text": [
            "enter the number3+5\n",
            "8\n"
          ]
        }
      ]
    },
    {
      "cell_type": "markdown",
      "metadata": {
        "id": "hKeVPdedKN39"
      },
      "source": [
        "->if elif statements in python\n"
      ]
    },
    {
      "cell_type": "code",
      "metadata": {
        "colab": {
          "base_uri": "https://localhost:8080/"
        },
        "id": "1V-Cyrb4KSuA",
        "outputId": "62ab07e2-b6ff-4231-b1a1-c3c6266bb156"
      },
      "source": [
        "x=9\n",
        "a=x%2\n",
        "if a==0:\n",
        "  print('even')\n",
        "else:\n",
        "  print('odd')  "
      ],
      "execution_count": 14,
      "outputs": [
        {
          "output_type": "stream",
          "name": "stdout",
          "text": [
            "odd\n"
          ]
        }
      ]
    },
    {
      "cell_type": "code",
      "metadata": {
        "colab": {
          "base_uri": "https://localhost:8080/"
        },
        "id": "tSr218PQK8BR",
        "outputId": "e9701122-809e-4012-92d2-be77e010a6d3"
      },
      "source": [
        "#nested if\n",
        "x=10\n",
        "a=x%2\n",
        "if a==0:\n",
        "  print('even')\n",
        "  if x>8:\n",
        "   print('greater')\n",
        "  else:\n",
        "    print('not greater')\n",
        "else:\n",
        "  print('odd')  "
      ],
      "execution_count": 18,
      "outputs": [
        {
          "output_type": "stream",
          "name": "stdout",
          "text": [
            "even\n",
            "greater\n"
          ]
        }
      ]
    },
    {
      "cell_type": "code",
      "metadata": {
        "colab": {
          "base_uri": "https://localhost:8080/"
        },
        "id": "RTU37KarLgdq",
        "outputId": "98ad15be-ed1c-4f7d-b9e6-f1bd27ff15f1"
      },
      "source": [
        "#elif\n",
        "a=5\n",
        "if a==1:\n",
        "  print('one')\n",
        "elif a==2:\n",
        "  print('two')\n",
        "elif a==3:\n",
        "  print('three') \n",
        "elif a==4:\n",
        "  print('four')     \n",
        "else:\n",
        "  print('not found')  "
      ],
      "execution_count": 21,
      "outputs": [
        {
          "output_type": "stream",
          "name": "stdout",
          "text": [
            "not found\n"
          ]
        }
      ]
    },
    {
      "cell_type": "markdown",
      "metadata": {
        "id": "yQtJjY3MMXGR"
      },
      "source": [
        "->while loop in python"
      ]
    },
    {
      "cell_type": "code",
      "metadata": {
        "colab": {
          "base_uri": "https://localhost:8080/"
        },
        "id": "Uozt3ezVMaEN",
        "outputId": "54614a6e-389a-4fa1-9aa4-66355990eaf4"
      },
      "source": [
        "i=7\n",
        "while i>=2:\n",
        "  print('hi',i)\n",
        "  i=i-1\n"
      ],
      "execution_count": 33,
      "outputs": [
        {
          "output_type": "stream",
          "name": "stdout",
          "text": [
            "hi 7\n",
            "hi 6\n",
            "hi 5\n",
            "hi 4\n",
            "hi 3\n",
            "hi 2\n"
          ]
        }
      ]
    },
    {
      "cell_type": "code",
      "metadata": {
        "id": "vQKP2ZAUQo08"
      },
      "source": [
        ""
      ],
      "execution_count": null,
      "outputs": []
    },
    {
      "cell_type": "code",
      "metadata": {
        "colab": {
          "base_uri": "https://localhost:8080/"
        },
        "id": "yfTFIHZ3N6gV",
        "outputId": "94a0fd24-b635-407e-c17d-6f1b6b07ac5b"
      },
      "source": [
        "i=1\n",
        "while i<=2:\n",
        "  print(\"hi\",end=\" \")\n",
        "  j=1\n",
        "  while j<=4:\n",
        "    print(\"dear\",end=\" \")\n",
        "    j=j+1\n",
        "  i=i+1\n",
        "  print() "
      ],
      "execution_count": 54,
      "outputs": [
        {
          "output_type": "stream",
          "name": "stdout",
          "text": [
            "hi dear dear dear dear \n",
            "hi dear dear dear dear \n"
          ]
        }
      ]
    },
    {
      "cell_type": "code",
      "metadata": {
        "colab": {
          "base_uri": "https://localhost:8080/"
        },
        "id": "G1yXhqvtTC7q",
        "outputId": "69c35c59-9dba-4bb0-c549-83f9589bc4b1"
      },
      "source": [
        "i=1\n",
        "while i<=4:\n",
        "  print(\"#\",end=\" \")\n",
        "  j=1\n",
        "  while j<=4:\n",
        "    print(\"#\",end=\" \")\n",
        "    j=j+1\n",
        "  i=i+1\n",
        "  print() "
      ],
      "execution_count": 55,
      "outputs": [
        {
          "output_type": "stream",
          "name": "stdout",
          "text": [
            "# # # # # \n",
            "# # # # # \n",
            "# # # # # \n",
            "# # # # # \n"
          ]
        }
      ]
    },
    {
      "cell_type": "code",
      "metadata": {
        "colab": {
          "base_uri": "https://localhost:8080/"
        },
        "id": "-Cu3up_sXnJZ",
        "outputId": "4415cbde-bc9f-4079-e07b-4edfb2249cfb"
      },
      "source": [
        "i=1\n",
        "a=1\n",
        "while i<=100:\n",
        "  if a%3==0 and a%5==0:\n",
        "    a=a+1\n",
        "  else:\n",
        "      print(a)\n",
        "      a=a+1\n",
        "  i=i+1  "
      ],
      "execution_count": 81,
      "outputs": [
        {
          "output_type": "stream",
          "name": "stdout",
          "text": [
            "1\n",
            "2\n",
            "3\n",
            "4\n",
            "5\n",
            "6\n",
            "7\n",
            "8\n",
            "9\n",
            "10\n",
            "11\n",
            "12\n",
            "13\n",
            "14\n",
            "16\n",
            "17\n",
            "18\n",
            "19\n",
            "20\n",
            "21\n",
            "22\n",
            "23\n",
            "24\n",
            "25\n",
            "26\n",
            "27\n",
            "28\n",
            "29\n",
            "31\n",
            "32\n",
            "33\n",
            "34\n",
            "35\n",
            "36\n",
            "37\n",
            "38\n",
            "39\n",
            "40\n",
            "41\n",
            "42\n",
            "43\n",
            "44\n",
            "46\n",
            "47\n",
            "48\n",
            "49\n",
            "50\n",
            "51\n",
            "52\n",
            "53\n",
            "54\n",
            "55\n",
            "56\n",
            "57\n",
            "58\n",
            "59\n",
            "61\n",
            "62\n",
            "63\n",
            "64\n",
            "65\n",
            "66\n",
            "67\n",
            "68\n",
            "69\n",
            "70\n",
            "71\n",
            "72\n",
            "73\n",
            "74\n",
            "76\n",
            "77\n",
            "78\n",
            "79\n",
            "80\n",
            "81\n",
            "82\n",
            "83\n",
            "84\n",
            "85\n",
            "86\n",
            "87\n",
            "88\n",
            "89\n",
            "91\n",
            "92\n",
            "93\n",
            "94\n",
            "95\n",
            "96\n",
            "97\n",
            "98\n",
            "99\n",
            "100\n"
          ]
        }
      ]
    },
    {
      "cell_type": "markdown",
      "metadata": {
        "id": "H00Gzr7hYldR"
      },
      "source": [
        "->for loop in python"
      ]
    },
    {
      "cell_type": "code",
      "metadata": {
        "colab": {
          "base_uri": "https://localhost:8080/"
        },
        "id": "2JJNkSutYqMX",
        "outputId": "b486412c-cd66-4acb-8ae3-ed7388e82462"
      },
      "source": [
        "for i in range(1,20,3):\n",
        "  print(i)"
      ],
      "execution_count": 82,
      "outputs": [
        {
          "output_type": "stream",
          "name": "stdout",
          "text": [
            "1\n",
            "4\n",
            "7\n",
            "10\n",
            "13\n",
            "16\n",
            "19\n"
          ]
        }
      ]
    },
    {
      "cell_type": "code",
      "metadata": {
        "colab": {
          "base_uri": "https://localhost:8080/"
        },
        "id": "jkQSrZAba9Gd",
        "outputId": "4dad93e7-7dc8-4219-c290-c219bade2807"
      },
      "source": [
        "for i in range(20,10,-1):\n",
        "  print(i)"
      ],
      "execution_count": 85,
      "outputs": [
        {
          "output_type": "stream",
          "name": "stdout",
          "text": [
            "20\n",
            "19\n",
            "18\n",
            "17\n",
            "16\n",
            "15\n",
            "14\n",
            "13\n",
            "12\n",
            "11\n"
          ]
        }
      ]
    },
    {
      "cell_type": "code",
      "metadata": {
        "colab": {
          "base_uri": "https://localhost:8080/"
        },
        "id": "CyxcufpQats5",
        "outputId": "cec26849-702a-4e7c-91e6-e86d1cb5da79"
      },
      "source": [
        "x=['charitha',19,'female']\n",
        "for i in x:\n",
        "  print(i)"
      ],
      "execution_count": 83,
      "outputs": [
        {
          "output_type": "stream",
          "name": "stdout",
          "text": [
            "charitha\n",
            "19\n",
            "female\n"
          ]
        }
      ]
    },
    {
      "cell_type": "code",
      "metadata": {
        "colab": {
          "base_uri": "https://localhost:8080/"
        },
        "id": "pubX-ifia32_",
        "outputId": "f6c7e5ec-a2f1-44fc-9e9b-ca913b3a546c"
      },
      "source": [
        "for i in range(1,21):\n",
        "  print(i)"
      ],
      "execution_count": 88,
      "outputs": [
        {
          "output_type": "stream",
          "name": "stdout",
          "text": [
            "1\n",
            "2\n",
            "3\n",
            "4\n",
            "5\n",
            "6\n",
            "7\n",
            "8\n",
            "9\n",
            "10\n",
            "11\n",
            "12\n",
            "13\n",
            "14\n",
            "15\n",
            "16\n",
            "17\n",
            "18\n",
            "19\n",
            "20\n"
          ]
        }
      ]
    },
    {
      "cell_type": "code",
      "metadata": {
        "colab": {
          "base_uri": "https://localhost:8080/"
        },
        "id": "P3lmPFLfb0Wv",
        "outputId": "b3973f96-6d8a-4781-f798-8556bf7fbc15"
      },
      "source": [
        "for i in range(1,11):\n",
        "  if(i%2!=0):\n",
        "   print(i)"
      ],
      "execution_count": 94,
      "outputs": [
        {
          "output_type": "stream",
          "name": "stdout",
          "text": [
            "1\n",
            "3\n",
            "5\n",
            "7\n",
            "9\n"
          ]
        }
      ]
    },
    {
      "cell_type": "markdown",
      "metadata": {
        "id": "msRBMi1dc13d"
      },
      "source": [
        "->break, continue,pass in python"
      ]
    },
    {
      "cell_type": "code",
      "metadata": {
        "colab": {
          "base_uri": "https://localhost:8080/"
        },
        "id": "OdJb-tSsfHA0",
        "outputId": "ad147603-1771-4bf9-939b-c3c4a9e09c63"
      },
      "source": [
        "average=4\n",
        "x=int(input('how many apples do you want'))\n",
        "i=1\n",
        "while(i<=x):\n",
        "   if(i>average):\n",
        "     break\n",
        "   print('apple')\n",
        "   i=i+1\n",
        "print('bye')"
      ],
      "execution_count": 101,
      "outputs": [
        {
          "output_type": "stream",
          "name": "stdout",
          "text": [
            "how many apples do you want9\n",
            "apple\n",
            "apple\n",
            "apple\n",
            "apple\n",
            "bye\n"
          ]
        }
      ]
    },
    {
      "cell_type": "code",
      "metadata": {
        "colab": {
          "base_uri": "https://localhost:8080/"
        },
        "id": "9Cl4PJpPfSgs",
        "outputId": "80bb4fa0-3b5e-4dc5-b443-66ce69f2838d"
      },
      "source": [
        "for i in range(1,21):\n",
        "  if (i%2!=0):\n",
        "    pass\n",
        "  else:\n",
        "    print(i)"
      ],
      "execution_count": 107,
      "outputs": [
        {
          "output_type": "stream",
          "name": "stdout",
          "text": [
            "2\n",
            "4\n",
            "6\n",
            "8\n",
            "10\n",
            "12\n",
            "14\n",
            "16\n",
            "18\n",
            "20\n"
          ]
        }
      ]
    },
    {
      "cell_type": "code",
      "metadata": {
        "colab": {
          "base_uri": "https://localhost:8080/"
        },
        "id": "hGvo6QgRgkFC",
        "outputId": "bd462095-e61a-4462-fd18-27f27fc31dcc"
      },
      "source": [
        "for i in range(1,50):\n",
        "  if i%3==0 and i%5==0:\n",
        "    continue\n",
        "  print(i)"
      ],
      "execution_count": 109,
      "outputs": [
        {
          "output_type": "stream",
          "name": "stdout",
          "text": [
            "1\n",
            "2\n",
            "3\n",
            "4\n",
            "5\n",
            "6\n",
            "7\n",
            "8\n",
            "9\n",
            "10\n",
            "11\n",
            "12\n",
            "13\n",
            "14\n",
            "16\n",
            "17\n",
            "18\n",
            "19\n",
            "20\n",
            "21\n",
            "22\n",
            "23\n",
            "24\n",
            "25\n",
            "26\n",
            "27\n",
            "28\n",
            "29\n",
            "31\n",
            "32\n",
            "33\n",
            "34\n",
            "35\n",
            "36\n",
            "37\n",
            "38\n",
            "39\n",
            "40\n",
            "41\n",
            "42\n",
            "43\n",
            "44\n",
            "46\n",
            "47\n",
            "48\n",
            "49\n"
          ]
        }
      ]
    },
    {
      "cell_type": "code",
      "metadata": {
        "colab": {
          "base_uri": "https://localhost:8080/"
        },
        "id": "JEoda9rKg3Tx",
        "outputId": "24bb6015-5ed0-452c-c581-993b0e6f3a19"
      },
      "source": [
        "for i in range(5):\n",
        " if i==3:\n",
        "   continue\n",
        " print('hello',i)"
      ],
      "execution_count": 115,
      "outputs": [
        {
          "output_type": "stream",
          "name": "stdout",
          "text": [
            "hello 0\n",
            "hello 1\n",
            "hello 2\n",
            "hello 4\n"
          ]
        }
      ]
    },
    {
      "cell_type": "code",
      "metadata": {
        "colab": {
          "base_uri": "https://localhost:8080/"
        },
        "id": "mVF86r46hrhI",
        "outputId": "57e646f6-d330-4de8-e751-cf14a74db5de"
      },
      "source": [
        "for i in range(5):\n",
        " print('hello',i)"
      ],
      "execution_count": 116,
      "outputs": [
        {
          "output_type": "stream",
          "name": "stdout",
          "text": [
            "hello 0\n",
            "hello 1\n",
            "hello 2\n",
            "hello 3\n",
            "hello 4\n"
          ]
        }
      ]
    },
    {
      "cell_type": "code",
      "metadata": {
        "colab": {
          "base_uri": "https://localhost:8080/"
        },
        "id": "dhfPALAWhvyr",
        "outputId": "f8024820-d5eb-4a33-af60-36068762ee40"
      },
      "source": [
        "for i in range(5):\n",
        " if i==3:\n",
        "   break\n",
        " print('hello',i)"
      ],
      "execution_count": 117,
      "outputs": [
        {
          "output_type": "stream",
          "name": "stdout",
          "text": [
            "hello 0\n",
            "hello 1\n",
            "hello 2\n"
          ]
        }
      ]
    },
    {
      "cell_type": "markdown",
      "metadata": {
        "id": "JzlC_D71h1Jd"
      },
      "source": [
        "->printing patterns in python"
      ]
    },
    {
      "cell_type": "code",
      "metadata": {
        "colab": {
          "base_uri": "https://localhost:8080/"
        },
        "id": "w3R2LPaFh6ul",
        "outputId": "c6c2c476-f98c-4e2c-8812-023e872a0346"
      },
      "source": [
        "for i in range(4):\n",
        "  for j in range(5):\n",
        "    print('#',end='')\n",
        "  print()\n"
      ],
      "execution_count": 121,
      "outputs": [
        {
          "output_type": "stream",
          "name": "stdout",
          "text": [
            "#####\n",
            "#####\n",
            "#####\n",
            "#####\n"
          ]
        }
      ]
    },
    {
      "cell_type": "code",
      "metadata": {
        "colab": {
          "base_uri": "https://localhost:8080/"
        },
        "id": "3jbDR6HHiiP3",
        "outputId": "8148e086-2f73-4954-89be-64b0d045c89d"
      },
      "source": [
        "for i in range(4):\n",
        "  for j in range(i+1):\n",
        "    print('#',end='')\n",
        "  print()\n",
        "\n",
        "\n",
        "for i in range(4):\n",
        "  for j in range(4-i):\n",
        "    print('#',end='')\n",
        "  print()\n"
      ],
      "execution_count": 127,
      "outputs": [
        {
          "output_type": "stream",
          "name": "stdout",
          "text": [
            "#\n",
            "##\n",
            "###\n",
            "####\n",
            "####\n",
            "###\n",
            "##\n",
            "#\n"
          ]
        }
      ]
    },
    {
      "cell_type": "markdown",
      "metadata": {
        "id": "QWwbcbd7jSEv"
      },
      "source": [
        "->for else in python"
      ]
    },
    {
      "cell_type": "code",
      "metadata": {
        "colab": {
          "base_uri": "https://localhost:8080/"
        },
        "id": "bkOKWp7pjV7l",
        "outputId": "1db79639-49d5-4cb6-d8f2-b752a89978f6"
      },
      "source": [
        "a=[5,6,7,8]\n",
        "for num in a:\n",
        "  if num%5==0:\n",
        "    print(num)\n",
        "else:\n",
        "  print('not found')"
      ],
      "execution_count": 154,
      "outputs": [
        {
          "output_type": "stream",
          "name": "stdout",
          "text": [
            "5\n",
            "not found\n"
          ]
        }
      ]
    },
    {
      "cell_type": "code",
      "metadata": {
        "colab": {
          "base_uri": "https://localhost:8080/"
        },
        "id": "UIOLz5NPlO--",
        "outputId": "3a303398-dfbf-4e43-9511-9eb9c7378634"
      },
      "source": [
        "num=8\n",
        "for i in range(2,num):\n",
        "  if num%1==0:\n",
        "   print('not prime')\n",
        "   break\n",
        "else:\n",
        "  print('prime')"
      ],
      "execution_count": 166,
      "outputs": [
        {
          "output_type": "stream",
          "name": "stdout",
          "text": [
            "not prime\n"
          ]
        }
      ]
    },
    {
      "cell_type": "markdown",
      "metadata": {
        "id": "tR_A_W-LnQUK"
      },
      "source": [
        "->array in python"
      ]
    },
    {
      "cell_type": "code",
      "metadata": {
        "colab": {
          "base_uri": "https://localhost:8080/"
        },
        "id": "vLmHbB-6nSfX",
        "outputId": "c37d60f3-1792-43b8-eeb3-8035fd1dafd5"
      },
      "source": [
        "from array import*\n",
        "x=array(\"i\",[1,2,3,4])\n",
        "print(x)"
      ],
      "execution_count": 169,
      "outputs": [
        {
          "output_type": "stream",
          "name": "stdout",
          "text": [
            "array('i', [1, 2, 3, 4])\n"
          ]
        }
      ]
    },
    {
      "cell_type": "code",
      "metadata": {
        "colab": {
          "base_uri": "https://localhost:8080/"
        },
        "id": "vycyV0Orntce",
        "outputId": "8d2c6667-b371-4193-ee75-acae07c9e7d3"
      },
      "source": [
        "from array import*\n",
        "x=array(\"b\",[1,2])\n",
        "print(x.buffer_info())"
      ],
      "execution_count": 172,
      "outputs": [
        {
          "output_type": "stream",
          "name": "stdout",
          "text": [
            "(139705324112960, 2)\n"
          ]
        }
      ]
    },
    {
      "cell_type": "code",
      "metadata": {
        "colab": {
          "base_uri": "https://localhost:8080/"
        },
        "id": "XCJzAwhXoZta",
        "outputId": "6f30b692-8ce1-4b6f-8e1d-6e043a41ffdf"
      },
      "source": [
        "from array import*\n",
        "x=array(\"f\",[1.5,2.5,3.5])\n",
        "print(x)\n",
        "print(x.buffer_info())"
      ],
      "execution_count": 174,
      "outputs": [
        {
          "output_type": "stream",
          "name": "stdout",
          "text": [
            "array('f', [1.5, 2.5, 3.5])\n",
            "(139705324113152, 3)\n"
          ]
        }
      ]
    },
    {
      "cell_type": "code",
      "metadata": {
        "colab": {
          "base_uri": "https://localhost:8080/"
        },
        "id": "7GAANGvCqNdY",
        "outputId": "b5c3cfdc-39f0-4f9a-d4d8-82192e5c584d"
      },
      "source": [
        "from array import*\n",
        "arr=array('i',[])\n",
        "x=int(input('enter the length of array'))\n",
        "for i in range(x):\n",
        "  y=int(input('enter the number'))\n",
        "  arr.append(y)\n",
        "print(arr)\n"
      ],
      "execution_count": 178,
      "outputs": [
        {
          "output_type": "stream",
          "name": "stdout",
          "text": [
            "enter the length of array4\n",
            "enter the number1\n",
            "enter the number2\n",
            "enter the number3\n",
            "enter the number4\n",
            "array('i', [1, 2, 3, 4])\n"
          ]
        }
      ]
    },
    {
      "cell_type": "code",
      "metadata": {
        "colab": {
          "base_uri": "https://localhost:8080/"
        },
        "id": "cKdJZXrjr1dB",
        "outputId": "66fe543f-b5a4-4ed0-cacd-975b483fb585"
      },
      "source": [
        "from array import*\n",
        "arr=array('i',[])\n",
        "x=int(input('enter the length of array'))\n",
        "for i in range(x):\n",
        "  y=int(input('enter the number'))\n",
        "  arr.append(y)\n",
        "print(arr)\n",
        "vals=int(input('enter the value for search'))\n",
        "k=0\n",
        "for e in arr:\n",
        "  if e==vals:\n",
        "    print(k)\n",
        "    break\n",
        "  k=k+1\n",
        "print(arr.index(vals))"
      ],
      "execution_count": 183,
      "outputs": [
        {
          "output_type": "stream",
          "name": "stdout",
          "text": [
            "enter the length of array4\n",
            "enter the number1\n",
            "enter the number2\n",
            "enter the number3\n",
            "enter the number4\n",
            "array('i', [1, 2, 3, 4])\n",
            "enter the value for search4\n",
            "3\n",
            "3\n"
          ]
        }
      ]
    }
  ]
}